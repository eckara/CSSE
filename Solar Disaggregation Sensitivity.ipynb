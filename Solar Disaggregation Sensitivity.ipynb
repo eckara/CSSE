{
 "cells": [
  {
   "cell_type": "markdown",
   "metadata": {
    "deletable": true,
    "editable": true
   },
   "source": [
    "### Solar Disaggregation Sensitivity Analysis\n"
   ]
  },
  {
   "cell_type": "code",
   "execution_count": 1,
   "metadata": {
    "collapsed": false,
    "deletable": true,
    "editable": true
   },
   "outputs": [],
   "source": [
    "import numpy as np\n",
    "import pandas as pd\n",
    "import csss\n",
    "import sqlalchemy as sq\n",
    "import matplotlib.pyplot as plt\n",
    "import pytz\n",
    "import datetime as dt\n",
    "import pickle as pk\n",
    "from imp import reload\n",
    "import copy\n",
    "\n",
    "\n",
    "% matplotlib inline"
   ]
  },
  {
   "cell_type": "code",
   "execution_count": null,
   "metadata": {
    "collapsed": false
   },
   "outputs": [],
   "source": []
  },
  {
   "cell_type": "markdown",
   "metadata": {
    "deletable": true,
    "editable": true
   },
   "source": [
    "## Load Data\n",
    "Load home and weather data, previously stored in Pickle files. \n",
    "\n",
    "Cursory plots shows that a some homes exhibit very correlated furnace and air conditioning energy use, possbily the use of fans in ducts. I may need to create a method for filtering out the furnace use that is associated with cooling. Possibly all heating use that is simultaneous with cooling is also cooling. \n",
    "\n",
    "There is also cooling consumption in February in some homes, it could be that the opposite is true, and for some homes fans are included on the air conditioning circuit. "
   ]
  },
  {
   "cell_type": "code",
   "execution_count": 2,
   "metadata": {
    "collapsed": false,
    "deletable": true,
    "editable": true
   },
   "outputs": [
    {
     "name": "stdout",
     "output_type": "stream",
     "text": [
      "There are 200 homes in the dataset\n"
     ]
    }
   ],
   "source": [
    "loaddata = pk.load(open('data/demand.pkl', 'rb'))\n",
    "homeids = np.unique(loaddata['dataid'])\n",
    "print('There are %d homes in the dataset' % len(homeids))"
   ]
  },
  {
   "cell_type": "code",
   "execution_count": 3,
   "metadata": {
    "collapsed": false,
    "deletable": true,
    "editable": true
   },
   "outputs": [],
   "source": [
    "## Make a heating and cooling column\n",
    "loaddata['cooling'] = np.sum(loaddata[['air1','air2','air3','airwindowunit1']], axis = 1)\n",
    "loaddata['heating'] = np.sum(loaddata[['furnace1','furnace2']], axis = 1)"
   ]
  },
  {
   "cell_type": "code",
   "execution_count": 4,
   "metadata": {
    "collapsed": false,
    "deletable": true,
    "editable": true
   },
   "outputs": [],
   "source": [
    "loadgroup = loaddata[['dataid','use','gen','heating','cooling']].groupby(\"dataid\")\n",
    "loaddata_counts = loadgroup.count()\n",
    "loaddata_means  = loadgroup.mean()\n",
    "loaddata_counts.columns = ['count_' + d for d in loaddata_counts.columns]\n",
    "loaddata_means.columns  = ['mean_' + d for d in loaddata_means.columns]\n",
    "load_summary = pd.concat([loaddata_counts,loaddata_means], axis = 1)"
   ]
  },
  {
   "cell_type": "code",
   "execution_count": 5,
   "metadata": {
    "collapsed": false,
    "deletable": true,
    "editable": true
   },
   "outputs": [],
   "source": [
    "load_summary = load_summary.loc[load_summary['count_use'] == np.max(load_summary['count_use']),:]"
   ]
  },
  {
   "cell_type": "code",
   "execution_count": 6,
   "metadata": {
    "collapsed": false,
    "deletable": true,
    "editable": true
   },
   "outputs": [
    {
     "name": "stdout",
     "output_type": "stream",
     "text": [
      "There are 89 homes with complete data\n",
      "52 homes solar\n",
      "82 homes cooling\n",
      "63 homes heating\n"
     ]
    }
   ],
   "source": [
    "print('There are %d homes with complete data' % load_summary.shape[0])\n",
    "print('%d homes solar' % np.sum(load_summary['count_gen']>0))\n",
    "print('%d homes cooling' % np.sum(load_summary['count_cooling']>0))\n",
    "print('%d homes heating' % np.sum(load_summary['count_heating']>0))"
   ]
  },
  {
   "cell_type": "code",
   "execution_count": 7,
   "metadata": {
    "collapsed": false,
    "deletable": true,
    "editable": true
   },
   "outputs": [
    {
     "data": {
      "text/plain": [
       "(735785.0, 735786.0)"
      ]
     },
     "execution_count": 7,
     "metadata": {},
     "output_type": "execute_result"
    },
    {
     "data": {
      "image/png": "[encoded data removed]",
      "text/plain": [
       "<matplotlib.figure.Figure at 0x1040b2a90>"
      ]
     },
     "metadata": {},
     "output_type": "display_data"
    }
   ],
   "source": [
    "## Do a quick plot of load data\n",
    "fig = plt.figure()\n",
    "ax = plt.gca()\n",
    "\n",
    "dataid = np.random.choice(load_summary.index, size=1)[0]\n",
    "\n",
    "data = loaddata.groupby('dataid').get_group(dataid)\n",
    "\n",
    "ax.plot(data['local_15min'],-data['gen'], label = 'solar generation')\n",
    "ax.plot(data['local_15min'],data['use'], label = 'consumption')\n",
    "ax.plot(data['local_15min'],data['cooling'], label = 'cooling consumption')\n",
    "ax.plot(data['local_15min'],data['heating'], label = 'heating consumption')\n",
    "ax.set_title(dataid)\n",
    "ax.legend()\n",
    "\n",
    "plt.xticks(rotation = 90)\n",
    "\n",
    "start = dt.datetime(2015,7,6)\n",
    "dur   = dt.timedelta(days = 1)\n",
    "\n",
    "ax.set_xlim(start, start + dur)"
   ]
  },
  {
   "cell_type": "markdown",
   "metadata": {
    "deletable": true,
    "editable": true
   },
   "source": [
    "## Climate Data\n",
    "Load Appropriate Climate Data from Pecan Street.  There is no way to identify which homes belong to which datase.  There are only three locations, I'll pull all of them. "
   ]
  },
  {
   "cell_type": "code",
   "execution_count": 8,
   "metadata": {
    "collapsed": false,
    "deletable": true,
    "editable": true
   },
   "outputs": [
    {
     "data": {
      "text/html": [
       "<div>\n",
       "<style>\n",
       "    .dataframe thead tr:only-child th {\n",
       "        text-align: right;\n",
       "    }\n",
       "\n",
       "    .dataframe thead th {\n",
       "        text-align: left;\n",
       "    }\n",
       "\n",
       "    .dataframe tbody tr th {\n",
       "        vertical-align: top;\n",
       "    }\n",
       "</style>\n",
       "<table border=\"1\" class=\"dataframe\">\n",
       "  <thead>\n",
       "    <tr style=\"text-align: right;\">\n",
       "      <th></th>\n",
       "      <th>localhour</th>\n",
       "      <th>latitude</th>\n",
       "      <th>longitude</th>\n",
       "      <th>tz_offset</th>\n",
       "      <th>summary</th>\n",
       "      <th>ozone</th>\n",
       "      <th>ozone_error</th>\n",
       "      <th>temperature</th>\n",
       "      <th>temperature_error</th>\n",
       "      <th>dew_point</th>\n",
       "      <th>...</th>\n",
       "      <th>wind_speed</th>\n",
       "      <th>wind_speed_error</th>\n",
       "      <th>cloud_cover</th>\n",
       "      <th>cloud_cover_error</th>\n",
       "      <th>wind_bearing</th>\n",
       "      <th>precip_intensity</th>\n",
       "      <th>precip_intensity_error</th>\n",
       "      <th>precip_probability</th>\n",
       "      <th>precip_type</th>\n",
       "      <th>Location</th>\n",
       "    </tr>\n",
       "  </thead>\n",
       "  <tbody>\n",
       "    <tr>\n",
       "      <th>0</th>\n",
       "      <td>2015-08-23 13:00:00-05:00</td>\n",
       "      <td>40.027278</td>\n",
       "      <td>-105.256111</td>\n",
       "      <td>-6</td>\n",
       "      <td>Clear</td>\n",
       "      <td>287.11</td>\n",
       "      <td>None</td>\n",
       "      <td>67.27</td>\n",
       "      <td>None</td>\n",
       "      <td>41.72</td>\n",
       "      <td>...</td>\n",
       "      <td>2.15</td>\n",
       "      <td>None</td>\n",
       "      <td>0.13</td>\n",
       "      <td>None</td>\n",
       "      <td>66</td>\n",
       "      <td>0.0</td>\n",
       "      <td>None</td>\n",
       "      <td>0.0</td>\n",
       "      <td>None</td>\n",
       "      <td>Boulder</td>\n",
       "    </tr>\n",
       "    <tr>\n",
       "      <th>1</th>\n",
       "      <td>2015-09-06 03:00:00-05:00</td>\n",
       "      <td>40.027278</td>\n",
       "      <td>-105.256111</td>\n",
       "      <td>-6</td>\n",
       "      <td>Clear</td>\n",
       "      <td>276.72</td>\n",
       "      <td>None</td>\n",
       "      <td>65.97</td>\n",
       "      <td>None</td>\n",
       "      <td>43.65</td>\n",
       "      <td>...</td>\n",
       "      <td>2.05</td>\n",
       "      <td>None</td>\n",
       "      <td>0.07</td>\n",
       "      <td>None</td>\n",
       "      <td>269</td>\n",
       "      <td>0.0</td>\n",
       "      <td>None</td>\n",
       "      <td>0.0</td>\n",
       "      <td>None</td>\n",
       "      <td>Boulder</td>\n",
       "    </tr>\n",
       "    <tr>\n",
       "      <th>2</th>\n",
       "      <td>2015-09-25 22:00:00-05:00</td>\n",
       "      <td>40.027278</td>\n",
       "      <td>-105.256111</td>\n",
       "      <td>-6</td>\n",
       "      <td>Clear</td>\n",
       "      <td>263.95</td>\n",
       "      <td>None</td>\n",
       "      <td>63.46</td>\n",
       "      <td>None</td>\n",
       "      <td>41.04</td>\n",
       "      <td>...</td>\n",
       "      <td>0.89</td>\n",
       "      <td>None</td>\n",
       "      <td>0.00</td>\n",
       "      <td>None</td>\n",
       "      <td>160</td>\n",
       "      <td>0.0</td>\n",
       "      <td>None</td>\n",
       "      <td>0.0</td>\n",
       "      <td>None</td>\n",
       "      <td>Boulder</td>\n",
       "    </tr>\n",
       "    <tr>\n",
       "      <th>3</th>\n",
       "      <td>2015-09-25 23:00:00-05:00</td>\n",
       "      <td>40.027278</td>\n",
       "      <td>-105.256111</td>\n",
       "      <td>-6</td>\n",
       "      <td>Clear</td>\n",
       "      <td>262.46</td>\n",
       "      <td>None</td>\n",
       "      <td>61.34</td>\n",
       "      <td>None</td>\n",
       "      <td>41.05</td>\n",
       "      <td>...</td>\n",
       "      <td>0.68</td>\n",
       "      <td>None</td>\n",
       "      <td>0.00</td>\n",
       "      <td>None</td>\n",
       "      <td>220</td>\n",
       "      <td>0.0</td>\n",
       "      <td>None</td>\n",
       "      <td>0.0</td>\n",
       "      <td>None</td>\n",
       "      <td>Boulder</td>\n",
       "    </tr>\n",
       "    <tr>\n",
       "      <th>4</th>\n",
       "      <td>2015-09-26 10:00:00-05:00</td>\n",
       "      <td>40.027278</td>\n",
       "      <td>-105.256111</td>\n",
       "      <td>-6</td>\n",
       "      <td>Clear</td>\n",
       "      <td>248.03</td>\n",
       "      <td>None</td>\n",
       "      <td>60.14</td>\n",
       "      <td>None</td>\n",
       "      <td>39.87</td>\n",
       "      <td>...</td>\n",
       "      <td>0.32</td>\n",
       "      <td>None</td>\n",
       "      <td>0.00</td>\n",
       "      <td>None</td>\n",
       "      <td>43</td>\n",
       "      <td>0.0</td>\n",
       "      <td>None</td>\n",
       "      <td>0.0</td>\n",
       "      <td>None</td>\n",
       "      <td>Boulder</td>\n",
       "    </tr>\n",
       "  </tbody>\n",
       "</table>\n",
       "<p>5 rows × 29 columns</p>\n",
       "</div>"
      ],
      "text/plain": [
       "                   localhour   latitude   longitude  tz_offset summary  \\\n",
       "0  2015-08-23 13:00:00-05:00  40.027278 -105.256111         -6   Clear   \n",
       "1  2015-09-06 03:00:00-05:00  40.027278 -105.256111         -6   Clear   \n",
       "2  2015-09-25 22:00:00-05:00  40.027278 -105.256111         -6   Clear   \n",
       "3  2015-09-25 23:00:00-05:00  40.027278 -105.256111         -6   Clear   \n",
       "4  2015-09-26 10:00:00-05:00  40.027278 -105.256111         -6   Clear   \n",
       "\n",
       "    ozone ozone_error  temperature temperature_error  dew_point    ...     \\\n",
       "0  287.11        None        67.27              None      41.72    ...      \n",
       "1  276.72        None        65.97              None      43.65    ...      \n",
       "2  263.95        None        63.46              None      41.04    ...      \n",
       "3  262.46        None        61.34              None      41.05    ...      \n",
       "4  248.03        None        60.14              None      39.87    ...      \n",
       "\n",
       "  wind_speed  wind_speed_error cloud_cover  cloud_cover_error wind_bearing  \\\n",
       "0       2.15              None        0.13               None           66   \n",
       "1       2.05              None        0.07               None          269   \n",
       "2       0.89              None        0.00               None          160   \n",
       "3       0.68              None        0.00               None          220   \n",
       "4       0.32              None        0.00               None           43   \n",
       "\n",
       "   precip_intensity precip_intensity_error  precip_probability precip_type  \\\n",
       "0               0.0                   None                 0.0        None   \n",
       "1               0.0                   None                 0.0        None   \n",
       "2               0.0                   None                 0.0        None   \n",
       "3               0.0                   None                 0.0        None   \n",
       "4               0.0                   None                 0.0        None   \n",
       "\n",
       "   Location  \n",
       "0   Boulder  \n",
       "1   Boulder  \n",
       "2   Boulder  \n",
       "3   Boulder  \n",
       "4   Boulder  \n",
       "\n",
       "[5 rows x 29 columns]"
      ]
     },
     "execution_count": 8,
     "metadata": {},
     "output_type": "execute_result"
    }
   ],
   "source": [
    "weather = pk.load(open('data/weather.pkl', 'rb'))\n",
    "weather.head()"
   ]
  },
  {
   "cell_type": "markdown",
   "metadata": {
    "deletable": true,
    "editable": true
   },
   "source": [
    "## Create Weather Regressors"
   ]
  },
  {
   "cell_type": "code",
   "execution_count": 9,
   "metadata": {
    "collapsed": false,
    "deletable": true,
    "editable": true
   },
   "outputs": [],
   "source": [
    "def createTempInput(temp, size, minTemp=None, maxTemp=None):\n",
    "    if (minTemp is None):\n",
    "        minTemp=min(temp)\n",
    "    if maxTemp is None:\n",
    "        maxTemp=max(temp)\n",
    "    minBound=int(np.floor(minTemp / size)) * size\n",
    "    maxBound=int(np.floor(maxTemp / size)) * size + size\n",
    "    rangeCount=int((maxBound-minBound) / size)\n",
    "    result=[]\n",
    "    for elem in temp:\n",
    "        fullRanges = min( int(np.floor((elem-minBound) / size)), rangeCount-1)\n",
    "        bound      = (minBound+fullRanges*size)\n",
    "        lastRange  = elem-bound\n",
    "        res        = [size for elem in range(fullRanges)]\n",
    "        res.append(lastRange)\n",
    "        for var in range(rangeCount-fullRanges-1):\n",
    "            res.append(0)\n",
    "        res.append(1)\n",
    "        result.append(res)\n",
    "    return minBound, maxBound,result\n",
    "\n",
    "\n",
    "weatherAustin = weather.groupby(\"Location\").get_group(\"Austin\").sort_values(\"localhour\")\n",
    "weatherAustin['time'] = pd.to_datetime(weatherAustin['localhour'], utc = True)\n",
    "#weatherAustin[\"time\"] = weatherAustin.set_index(\"localhour\").index.tz_localize(pytz.utc, ambiguous = False)\n",
    "weatherAustin = weatherAustin.set_index(\"time\")\n"
   ]
  },
  {
   "cell_type": "markdown",
   "metadata": {
    "deletable": true,
    "editable": true
   },
   "source": [
    "### Set up an example Solar Disaggregation on multiple homes"
   ]
  },
  {
   "cell_type": "markdown",
   "metadata": {
    "deletable": true,
    "editable": true
   },
   "source": [
    "## Create the individual homes model\n",
    "This code creates the CSSS model for disaggregating solar at individual homes. \n",
    "This is the training problem, not the real time problem. \n",
    "See note below on issues with values of alpha. \n",
    "\n",
    "### Alpha and solver errors\n",
    "The solver is sensitive to large values of alpha, particularly with more data.  There seems to be an inverse relationship between the maximum size of alpha and the amount of data. The errors scale with t he magnitude of alpha, not the difference between alphas, so by scaling the maximum alpha to 1, we may solve this problem. "
   ]
  },
  {
   "cell_type": "code",
   "execution_count": null,
   "metadata": {
    "collapsed": false
   },
   "outputs": [],
   "source": []
  },
  {
   "cell_type": "code",
   "execution_count": 51,
   "metadata": {
    "collapsed": false
   },
   "outputs": [],
   "source": [
    "## Choose homes \n",
    "Nhomes = 8\n",
    "\n",
    "## Identify dataids to use\n",
    "dataids = np.random.choice( load_summary.index[load_summary['count_gen']>0] , Nhomes, replace=False)\n",
    "proxyids = dataids[:1]   # Homes to be used as solar proxy\n",
    "tuneids  = dataids[1:4]  # Home to be used for tuning\n",
    "homeids = dataids[1:]    # Homes to be used for disaggregation\n",
    "\n",
    "## Set up data \n",
    "first = True\n",
    "for did in dataids:\n",
    "    dat = loaddata.groupby(\"dataid\").get_group(did).set_index('time')[['use','gen']]\n",
    "    dat['netload_%s' % did] = dat['use'] - dat['gen']\n",
    "    dat.columns = ['demand_%s' % did, 'solar_%s' % did, 'netload_%s' % did]\n",
    "\n",
    "    if first:\n",
    "        fulldata = dat\n",
    "        first = False\n",
    "    else:\n",
    "        fulldata = pd.concat([fulldata,dat], axis = 1)\n",
    "\n",
    "## Create aggregate load and aggregate net load columns. \n",
    "netloadcols = ['netload_%s' % d for d in homeids]\n",
    "loadcols    = ['demand_%s' %  d for d in homeids]\n",
    "proxycol    = ['solar_%s' %   d for d in proxyids]\n",
    "\n",
    "fulldata['AggregateNetLoad'] = np.sum(fulldata[netloadcols], axis = 1)\n",
    "fulldata['AggregateLoad']    = np.sum(fulldata[loadcols], axis = 1)\n"
   ]
  },
  {
   "cell_type": "code",
   "execution_count": 52,
   "metadata": {
    "collapsed": false
   },
   "outputs": [
    {
     "name": "stdout",
     "output_type": "stream",
     "text": [
      "solar_8243\n",
      "solar_6990\n",
      "solar_3918\n",
      "[ 0.00041033  0.00091333  0.0011541 ]\n",
      "0.000943000060574\n",
      "(6.0173696751793795e-05, 1479.9532583933319)\n",
      "(0.00014235731963264177, 1142.3949779630229)\n",
      "(0.00015511985100294401, 2117.2072432732748)\n",
      "(0.00019758890318342397, 5061.0129611969596)\n",
      "(9.4355734561344003e-05, 633.37416754675166)\n",
      "(9.4990025818567103e-05, 960.09014251559847)\n",
      "(0.00022009318774944407, 4543.5299939333354)\n",
      "(0.0056084568812425819, 178.30216424494378)\n"
     ]
    },
    {
     "data": {
      "text/plain": [
       "0.19283426388016361"
      ]
     },
     "execution_count": 52,
     "metadata": {},
     "output_type": "execute_result"
    }
   ],
   "source": [
    "## Time align weather data with load data using linear interpolation \n",
    "xp  = [t.value for t in weatherAustin.index ]\n",
    "x = [t.value for t in fulldata.index  ]\n",
    "fulldata['AustinTemp'] = np.interp(x = x ,xp=xp, fp =  weatherAustin['temperature'])\n",
    "\n",
    "data = fulldata.iloc[:1000,:]\n",
    "\n",
    "## Get HOD regressors\n",
    "hod = pd.Series([t.hour for t in data.index])\n",
    "hod = pd.get_dummies(hod)\n",
    "\n",
    "## Get temperature regressors\n",
    "Tmin, Tmax, tempregress = regressor=createTempInput(data['AustinTemp'], 10)\n",
    "\n",
    "loadregressors = np.hstack([hod,tempregress])\n",
    "netload = np.array(data[netloadcols])\n",
    "solarproxy = np.array(data[proxycol])\n",
    "names = ['solar_%s' % d for d in homeids]\n",
    "\n",
    "## Construct solar disaggregation problem\n",
    "reload(csss.SolarDisagg)\n",
    "sdmod0 = csss.SolarDisagg.SolarDisagg_IndvHome(netloads=netload, solarregressors=solarproxy, loadregressors=loadregressors, names = names)\n",
    "\n",
    "\n",
    "## add true vectors\n",
    "for d in homeids:\n",
    "    source_name = 'solar_%s' % d\n",
    "    sdmod0.addTrueValue(name=source_name, trueValue=data[source_name])\n",
    "\n",
    "sdmod0.constructSolve()\n",
    "sdmod_tune = copy.deepcopy(sdmod0)\n",
    "sdmod_tune.tuneAlphas(['solar_%s' % d for d in tuneids])\n",
    "sdmod_tune.constructSolve()\n"
   ]
  },
  {
   "cell_type": "code",
   "execution_count": 53,
   "metadata": {
    "collapsed": false
   },
   "outputs": [
    {
     "data": {
      "text/plain": [
       "(735601.25, 735603.25)"
      ]
     },
     "execution_count": 53,
     "metadata": {},
     "output_type": "execute_result"
    },
    {
     "data": {
      "image/png": "[encoded data removed]",
      "text/plain": [
       "<matplotlib.figure.Figure at 0x1040e84e0>"
      ]
     },
     "metadata": {},
     "output_type": "display_data"
    },
    {
     "data": {
      "image/png": "[encoded data removed]",
      "text/plain": [
       "<matplotlib.figure.Figure at 0x104112080>"
      ]
     },
     "metadata": {},
     "output_type": "display_data"
    }
   ],
   "source": [
    "sdmod = copy.deepcopy(sdmod0)\n",
    "i=0\n",
    "source_name = sdmod.names[i]\n",
    "fig = plt.figure()\n",
    "ax = plt.gca()\n",
    "ax.plot(sdmod.trueValues[source_name],  sdmod.models[source_name]['source'].value, '.')\n",
    "ax.plot(sdmod.trueValues[source_name],  -sdmod.trueValues[source_name], 'k-')\n",
    "ax.set_xlabel('True Solar')\n",
    "ax.set_ylabel('Disaggregated Solar')\n",
    "\n",
    "fig = plt.figure()\n",
    "ax = plt.gca()\n",
    "ax.plot(data.index,  -sdmod.models[source_name]['source'].value, '-', label = 'Disaggregated Solar')\n",
    "ax.plot(data.index,  data[source_name], '-', label = 'Actual Solar')\n",
    "start = dt.datetime(2015,1,3,0,0,0)\n",
    "start = pytz.timezone('America/Chicago').localize(start)\n",
    "ax.legend()\n",
    "ax.set_ylabel('Solar Generation')\n",
    "dur   = dt.timedelta(days = 2)\n",
    "plt.xticks(rotation = 90)\n",
    "\n",
    "ax.set_xlim(start, start + dur)"
   ]
  },
  {
   "cell_type": "code",
   "execution_count": 54,
   "metadata": {
    "collapsed": false
   },
   "outputs": [
    {
     "data": {
      "text/plain": [
       "(735601.25, 735603.25)"
      ]
     },
     "execution_count": 54,
     "metadata": {},
     "output_type": "execute_result"
    },
    {
     "data": {
      "image/png": "[encoded data removed]",
      "text/plain": [
       "<matplotlib.figure.Figure at 0x106ca0208>"
      ]
     },
     "metadata": {},
     "output_type": "display_data"
    },
    {
     "data": {
      "image/png": "[encoded data removed]",
      "text/plain": [
       "<matplotlib.figure.Figure at 0x11eba6eb8>"
      ]
     },
     "metadata": {},
     "output_type": "display_data"
    }
   ],
   "source": [
    "sdmod = copy.deepcopy(sdmod_tune)\n",
    "source_name = sdmod.names[i]\n",
    "fig = plt.figure()\n",
    "ax = plt.gca()\n",
    "ax.plot(sdmod.trueValues[source_name],  sdmod.models[source_name]['source'].value, '.')\n",
    "ax.plot(sdmod.trueValues[source_name],  -sdmod.trueValues[source_name], 'k-')\n",
    "ax.set_xlabel('True Solar')\n",
    "ax.set_ylabel('Disaggregated Solar')\n",
    "\n",
    "fig = plt.figure()\n",
    "ax = plt.gca()\n",
    "ax.plot(data.index,  -sdmod.models[source_name]['source'].value, '-', label = 'Disaggregated Solar')\n",
    "ax.plot(data.index,  data[source_name], '-', label = 'Actual Solar')\n",
    "start = dt.datetime(2015,1,3,0,0,0)\n",
    "start = pytz.timezone('America/Chicago').localize(start)\n",
    "ax.legend()\n",
    "ax.set_ylabel('Solar Generation')\n",
    "dur   = dt.timedelta(days = 2)\n",
    "plt.xticks(rotation = 90)\n",
    "\n",
    "ax.set_xlim(start, start + dur)"
   ]
  },
  {
   "cell_type": "code",
   "execution_count": 55,
   "metadata": {
    "collapsed": false
   },
   "outputs": [
    {
     "data": {
      "text/plain": [
       "{'solar_2755': 4.8659155565431007,\n",
       " 'solar_3918': 3.2302884080319236,\n",
       " 'solar_5892': 4.1459195479538993,\n",
       " 'solar_6990': 4.4983757601748104,\n",
       " 'solar_8243': 4.3858123451406632,\n",
       " 'solar_9248': 3.4150332471131115,\n",
       " 'solar_93': 6.4292701699539343}"
      ]
     },
     "execution_count": 55,
     "metadata": {},
     "output_type": "execute_result"
    }
   ],
   "source": [
    "sdmod_tune.performanceMetrics()\n",
    "sdmod0.performanceMetrics()\n",
    "sdmod_tune.cv"
   ]
  },
  {
   "cell_type": "code",
   "execution_count": 56,
   "metadata": {
    "collapsed": false
   },
   "outputs": [
    {
     "data": {
      "text/plain": [
       "{'solar_2755': 5.0379874567583656,\n",
       " 'solar_3918': 5.8169477394798621,\n",
       " 'solar_5892': 5.0212024425752508,\n",
       " 'solar_6990': 4.6670611079226934,\n",
       " 'solar_8243': 5.0977481849817181,\n",
       " 'solar_9248': 5.8100273981347366,\n",
       " 'solar_93': 6.1211214421503453}"
      ]
     },
     "execution_count": 56,
     "metadata": {},
     "output_type": "execute_result"
    }
   ],
   "source": [
    "sdmod0.cv"
   ]
  },
  {
   "cell_type": "code",
   "execution_count": 57,
   "metadata": {
    "collapsed": false
   },
   "outputs": [
    {
     "data": {
      "text/plain": [
       "[<matplotlib.lines.Line2D at 0x11f19f9e8>]"
      ]
     },
     "execution_count": 57,
     "metadata": {},
     "output_type": "execute_result"
    },
    {
     "data": {
      "image/png": "[encoded data removed]",
      "text/plain": [
       "<matplotlib.figure.Figure at 0x1594896a0>"
      ]
     },
     "metadata": {},
     "output_type": "display_data"
    }
   ],
   "source": [
    "model_est = sdmod_tune.models['solar_3918']['regressor'] * sdmod_tune.models['solar_3918']['theta']\n",
    "model_est = np.array(model_est.value).squeeze()\n",
    "plt.plot(model_est)"
   ]
  },
  {
   "cell_type": "code",
   "execution_count": 58,
   "metadata": {
    "collapsed": false
   },
   "outputs": [
    {
     "data": {
      "text/plain": [
       "array([  8.13884479e-04,   9.79515579e-04,   4.40933923e-04,\n",
       "         3.38149690e-04,   1.73793969e-04,   3.85684320e-04,\n",
       "         2.30994719e-04,   2.69101442e-04,   2.86549563e-04,\n",
       "         2.23661953e-04,   2.24021137e-04,   2.31276260e-04,\n",
       "         2.12717959e-04,   2.04961992e-04,   1.97532063e-04,\n",
       "         1.84666268e-04,   1.93963806e-04,   2.09291832e-04,\n",
       "         2.00870148e-04,   1.40851071e-04,   1.34251750e-04,\n",
       "         1.47294620e-04,   1.34763772e-04,   9.92664772e-05,\n",
       "         7.47887975e-05,   6.84527631e-05,   6.33694811e-05,\n",
       "         6.11607234e-05,   6.14369172e-05,   6.15471237e-05,\n",
       "         6.25527590e-05,   6.90178815e-05,   7.17975522e-05,\n",
       "         7.43853113e-05,   7.52697680e-05,   9.70478131e-05,\n",
       "         1.53480849e-04,   2.03288181e-04,   2.74224865e-04,\n",
       "         1.97455627e-04,   1.96248456e-04,   6.39350610e-05,\n",
       "         5.97763628e-05,   6.40719616e-05,   5.28967465e-05,\n",
       "         4.09282456e-05,   3.17165156e-05,   2.52661019e-05,\n",
       "         2.35986725e-05,   2.08124088e-05,   2.09556961e-05,\n",
       "         2.18922754e-05,   2.21029187e-05,   2.93608602e-05,\n",
       "         3.16930429e-05,   3.17731661e-05,   3.55899037e-05,\n",
       "         4.28196046e-05,   6.60715481e-05,   1.39372694e-04,\n",
       "         1.97280120e-04,   3.52305291e-02,   3.92763804e-04,\n",
       "         2.38645485e-04,   1.65733300e-04,   1.41451194e-04,\n",
       "         1.18941408e-04,   9.10643537e-05,   9.06900817e-05,\n",
       "         8.98827527e-05,   9.15374852e-05,   7.02725368e-05,\n",
       "         4.53526175e-05,   3.11771873e-05,   2.42254099e-05,\n",
       "         2.29564565e-05,   2.37705919e-05,   2.27831564e-05,\n",
       "         2.17071951e-05,   2.26278570e-05,   2.21238354e-05,\n",
       "         2.22506687e-05,   2.13615756e-05,   2.02326881e-05,\n",
       "         1.98095170e-05,   2.05812137e-05,   2.32543164e-05,\n",
       "         2.16448052e-05,   1.61335182e-05,   1.31734383e-05,\n",
       "         1.11209601e-05,   1.05171749e-05,   9.80186165e-06,\n",
       "         9.19395364e-06,   8.67419976e-06,   8.93749055e-06,\n",
       "         9.47002142e-06,   1.01504065e-05,   1.05892557e-05,\n",
       "         1.13097340e-05,   1.34104867e-05,   1.66585928e-05,\n",
       "         2.21116706e-05,   2.47803322e-05,   2.90983571e-05,\n",
       "         3.53329191e-05,   4.68023809e-05,   5.16551576e-05,\n",
       "         6.04975397e-05,   6.44671400e-05,   7.44231341e-05,\n",
       "         8.28530330e-05,   9.08703034e-05,   9.84174538e-05,\n",
       "         9.77228111e-05,   7.17178858e-05,   5.97776947e-05,\n",
       "         4.72148305e-05,   3.98465638e-05,   3.26963875e-05,\n",
       "         3.26139197e-05,   3.29204432e-05,   3.20503726e-05,\n",
       "         3.20526530e-05,   3.30933091e-05,   3.35698886e-05,\n",
       "         3.42588999e-05,   3.44094488e-05,   3.64208225e-05,\n",
       "         4.61877834e-05,   5.66811318e-05,   7.27713693e-05,\n",
       "         6.31803472e-05,   6.37672864e-05,   7.85319173e-05,\n",
       "         8.85521036e-05,   9.72895657e-05,   1.17935235e-04,\n",
       "         8.11968138e-05,   1.42379799e-04,   5.13960547e-04,\n",
       "         1.34014737e-03,   3.56037450e-04,   7.52906451e-05,\n",
       "         7.59337865e-05,   6.21834177e-05,   5.03112911e-05,\n",
       "         4.67604633e-05,   3.73654590e-05,   3.08153403e-05,\n",
       "         3.05217384e-05,   2.48771022e-05,   2.09882824e-05,\n",
       "         1.94482505e-05,   2.00909019e-05,   2.42491538e-05,\n",
       "         2.33494675e-05,   2.00567211e-05,   2.07091645e-05,\n",
       "         2.01582723e-05,   1.82743165e-05,   1.39425900e-05,\n",
       "         1.16007309e-05,   1.11603361e-05,   9.38280499e-06,\n",
       "         9.28976735e-06,   9.33554846e-06,   9.54805858e-06,\n",
       "         9.70646246e-06,   1.03509888e-05,   9.17998002e-06,\n",
       "         8.88418813e-06,   9.39885872e-06,   1.15913628e-05,\n",
       "         1.45462802e-05,   1.67249711e-05,   2.68159107e-05,\n",
       "         2.91466307e-05,   3.00290803e-05,   3.12725513e-05,\n",
       "         3.20310079e-05,   3.06110643e-05,   4.47709857e-05,\n",
       "         4.66014500e-05,   4.32934213e-05,   4.04623756e-05,\n",
       "         3.44471741e-05,   3.39748357e-05,   3.23983313e-05,\n",
       "         2.92139112e-05,   2.45436297e-05,   2.34014780e-05,\n",
       "         2.25847435e-05,   2.52989045e-05,   2.67803811e-05,\n",
       "         2.97018609e-05,   3.47784636e-05,   3.83719189e-05,\n",
       "         5.00439115e-05,   5.28685527e-05,   5.60129165e-05,\n",
       "         6.65551187e-05,   1.12297214e-04,   1.32141979e-04,\n",
       "         1.65157170e-04,   1.51968910e-04,   1.39599967e-04,\n",
       "         1.18198004e-04,   1.08010276e-04,   1.03069719e-04,\n",
       "         1.00131731e-04,   8.69151361e-05,   7.46195502e-05,\n",
       "         6.33681156e-05,   5.74509941e-05,   5.26616993e-05,\n",
       "         4.81891045e-05,   4.38229072e-05,   3.92985034e-05,\n",
       "         3.87908745e-05,   5.11873625e-05,   8.76635733e-05,\n",
       "         3.52305291e-02,   3.52305291e-02,   3.52305291e-02,\n",
       "         3.52305291e-02,   3.52305291e-02,   3.52305291e-02,\n",
       "         3.52305291e-02,   3.52305291e-02,   3.52305291e-02,\n",
       "         3.52305291e-02,   3.52305291e-02,   3.52305291e-02,\n",
       "         3.52305291e-02,   3.52305291e-02,   3.52305291e-02,\n",
       "         3.52305291e-02,   3.52305291e-02,   3.52305291e-02,\n",
       "         3.52305291e-02,   3.52305291e-02,   3.52305291e-02,\n",
       "         3.52305291e-02,   3.52305291e-02,   3.52305291e-02,\n",
       "         3.52305291e-02,   3.52305291e-02,   3.52305291e-02,\n",
       "         3.52305291e-02,   3.52305291e-02,   3.52305291e-02,\n",
       "         3.52305291e-02,   3.52305291e-02,   3.52305291e-02,\n",
       "         3.52305291e-02,   3.52305291e-02,   3.52305291e-02,\n",
       "         3.52305291e-02,   3.52305291e-02,   3.52305291e-02,\n",
       "         8.15443151e-05,   1.47808768e-05,   8.94847121e-06,\n",
       "         7.08623424e-06,   6.36665907e-06,   6.00606892e-06,\n",
       "         6.13224482e-06,   6.45792843e-06,   7.54137199e-06,\n",
       "         9.11966049e-06,   1.13473233e-05,   1.34859306e-05,\n",
       "         1.66197733e-05,   2.06296905e-05,   2.85750133e-05,\n",
       "         3.65426693e-05,   4.97251978e-05,   4.87163108e-05,\n",
       "         4.24255026e-05,   3.24135879e-05,   2.92641602e-05,\n",
       "         2.42980070e-05,   2.33704977e-05,   2.28477040e-05,\n",
       "         2.22945384e-05,   2.09561595e-05,   2.16629240e-05,\n",
       "         2.33897365e-05,   2.52472114e-05,   2.98725880e-05,\n",
       "         3.56408708e-05,   4.82165364e-05,   5.88448114e-05,\n",
       "         1.00494879e-04,   1.20964629e-04,   1.27664047e-04,\n",
       "         1.48249395e-04,   1.98618695e-04,   1.35366732e-04,\n",
       "         1.23280074e-04,   1.16003928e-04,   1.24619962e-04,\n",
       "         1.03425891e-04,   8.42997554e-05,   7.72775005e-05,\n",
       "         6.67213741e-05,   4.89577310e-05,   4.17613968e-05,\n",
       "         3.81171425e-05,   3.36659052e-05,   3.01760675e-05,\n",
       "         2.51422392e-05,   2.38075961e-05,   2.28009647e-05,\n",
       "         2.31590511e-05,   2.45495193e-05,   2.95599603e-05,\n",
       "         5.15625595e-05,   3.52305291e-02,   3.52305291e-02,\n",
       "         3.52305291e-02,   3.52305291e-02,   3.52305291e-02,\n",
       "         3.52305291e-02,   3.52305291e-02,   3.52305291e-02,\n",
       "         3.52305291e-02,   3.52305291e-02,   3.52305291e-02,\n",
       "         3.52305291e-02,   3.52305291e-02,   3.52305291e-02,\n",
       "         3.52305291e-02,   3.52305291e-02,   3.52305291e-02,\n",
       "         3.52305291e-02,   3.52305291e-02,   3.52305291e-02,\n",
       "         3.52305291e-02,   3.52305291e-02,   3.52305291e-02,\n",
       "         3.52305291e-02,   3.52305291e-02,   3.52305291e-02,\n",
       "         3.52305291e-02,   3.52305291e-02,   3.52305291e-02,\n",
       "         3.52305291e-02,   3.52305291e-02,   3.52305291e-02,\n",
       "         3.52305291e-02,   3.52305291e-02,   3.52305291e-02,\n",
       "         3.52305291e-02,   3.52305291e-02,   3.52305291e-02,\n",
       "         3.52305291e-02,   2.03134675e-04,   2.71003248e-05,\n",
       "         1.90384213e-05,   1.49027412e-05,   1.37357791e-05,\n",
       "         1.67363353e-05,   1.95855054e-05,   1.89277009e-05,\n",
       "         1.79738379e-05,   2.16334936e-05,   2.41156099e-05,\n",
       "         3.22124008e-05,   3.75501927e-05,   3.29025866e-05,\n",
       "         3.14467971e-05,   3.16666307e-05,   2.83595655e-05,\n",
       "         2.32413918e-05,   1.94132073e-05,   1.70354934e-05,\n",
       "         1.51207414e-05,   1.41517158e-05,   1.28353452e-05,\n",
       "         1.21281175e-05,   1.15117624e-05,   1.18907419e-05,\n",
       "         1.23915172e-05,   1.31090740e-05,   1.41386461e-05,\n",
       "         1.59666850e-05,   1.87157987e-05,   2.27984907e-05,\n",
       "         3.23562011e-05,   3.95587604e-05,   5.54862831e-05,\n",
       "         8.59893155e-05,   1.64920912e-04,   1.95974574e-04,\n",
       "         3.30717606e-04,   7.43747588e-04,   1.77035628e-03,\n",
       "         1.84385397e-03,   1.81953565e-03,   1.80166687e-03,\n",
       "         1.74302583e-03,   7.98045833e-04,   7.25576454e-04,\n",
       "         7.92997098e-04,   6.75448968e-04,   5.21124706e-04,\n",
       "         4.99140467e-04,   4.27866463e-04,   1.62681385e-04,\n",
       "         1.72367986e-04,   2.09654023e-04,   4.76238884e-03,\n",
       "         3.52305291e-02,   3.52305291e-02,   3.52305291e-02,\n",
       "         3.52305291e-02,   3.52305291e-02,   3.52305291e-02,\n",
       "         3.52305291e-02,   3.52305291e-02,   3.52305291e-02,\n",
       "         3.52305291e-02,   3.52305291e-02,   3.52305291e-02,\n",
       "         3.52305291e-02,   3.52305291e-02,   3.52305291e-02,\n",
       "         3.52305291e-02,   3.52305291e-02,   3.52305291e-02,\n",
       "         3.52305291e-02,   3.52305291e-02,   3.52305291e-02,\n",
       "         3.52305291e-02,   3.52305291e-02,   3.52305291e-02,\n",
       "         3.52305291e-02,   3.52305291e-02,   3.52305291e-02,\n",
       "         3.52305291e-02,   3.52305291e-02,   3.52305291e-02,\n",
       "         3.52305291e-02,   3.52305291e-02,   3.52305291e-02,\n",
       "         3.52305291e-02,   3.52305291e-02,   3.52305291e-02,\n",
       "         3.52305291e-02,   3.52305291e-02,   3.52305291e-02,\n",
       "         3.52305291e-02,   3.52305291e-02,   7.03521591e-05,\n",
       "         2.23572747e-05,   1.70085960e-05,   1.49898769e-05,\n",
       "         2.32001220e-05,   2.61318926e-05,   2.64005327e-05,\n",
       "         2.68150576e-05,   2.64027642e-05,   2.22281545e-05,\n",
       "         1.79671600e-05,   1.61643090e-05,   1.51642437e-05,\n",
       "         1.59182210e-05,   1.57974023e-05,   1.66225231e-05,\n",
       "         1.63054154e-05,   1.62125699e-05,   1.57946872e-05,\n",
       "         1.74795653e-05,   2.07483010e-05,   2.47978987e-05,\n",
       "         2.99648579e-05,   2.95479627e-05,   3.80956629e-05,\n",
       "         3.56925642e-05,   3.54697686e-05,   3.49771428e-05,\n",
       "         3.62303451e-05,   3.62902747e-05,   3.64175797e-05,\n",
       "         3.42982308e-05,   3.27476518e-05,   3.19239137e-05,\n",
       "         3.53958188e-05,   4.97986253e-05,   5.51258117e-05,\n",
       "         6.03591146e-05,   6.74817608e-05,   7.65690936e-05,\n",
       "         7.72937040e-05,   8.51214900e-05,   9.09661560e-05,\n",
       "         9.57001172e-05,   8.67324730e-05,   9.36341423e-05,\n",
       "         1.06291710e-04,   1.13754314e-04,   1.01064527e-04,\n",
       "         8.14452752e-05,   6.53606686e-05,   5.32346952e-05,\n",
       "         4.98773605e-05,   5.45354359e-05,   9.50712046e-05,\n",
       "         3.52305291e-02,   3.52305291e-02,   3.52305291e-02,\n",
       "         3.52305291e-02,   3.52305291e-02,   3.52305291e-02,\n",
       "         3.52305291e-02,   3.52305291e-02,   3.52305291e-02,\n",
       "         3.52305291e-02,   3.52305291e-02,   3.52305291e-02,\n",
       "         3.52305291e-02,   3.52305291e-02,   3.52305291e-02,\n",
       "         3.52305291e-02,   3.52305291e-02,   3.52305291e-02,\n",
       "         3.52305291e-02,   3.52305291e-02,   3.52305291e-02,\n",
       "         3.52305291e-02,   3.52305291e-02,   3.52305291e-02,\n",
       "         3.52305291e-02,   3.52305291e-02,   3.52305291e-02,\n",
       "         3.52305291e-02,   3.52305291e-02,   3.52305291e-02,\n",
       "         3.52305291e-02,   3.52305291e-02,   3.52305291e-02,\n",
       "         3.52305291e-02,   3.52305291e-02,   3.52305291e-02,\n",
       "         3.52305291e-02,   3.52305291e-02,   3.52305291e-02,\n",
       "         1.29738237e-04,   2.00881401e-05,   1.08420362e-05,\n",
       "         8.59876482e-06,   7.48383040e-06,   7.10506591e-06,\n",
       "         8.17551120e-06,   9.33623386e-06,   1.19367143e-05,\n",
       "         1.61830536e-05,   2.34973612e-05,   3.38578483e-05,\n",
       "         3.64447880e-05,   3.98642651e-05,   4.17412070e-05,\n",
       "         3.41138585e-05,   3.62495227e-05,   4.32506067e-05,\n",
       "         4.42474138e-05,   4.62607852e-05,   3.81653810e-05,\n",
       "         2.84826091e-05,   2.84441718e-05,   2.55841827e-05,\n",
       "         2.16749090e-05,   1.81751205e-05,   1.83822364e-05,\n",
       "         2.03315071e-05,   2.08231722e-05,   2.02666401e-05,\n",
       "         2.03975656e-05,   2.00182966e-05,   2.20241148e-05,\n",
       "         2.71090497e-05,   2.96243428e-05,   3.34193724e-05,\n",
       "         4.22158563e-05,   6.53663487e-05,   6.67523584e-05,\n",
       "         7.06421154e-05,   7.91148161e-05,   9.28090902e-05,\n",
       "         9.19647257e-05,   1.00353186e-04,   9.90031520e-05,\n",
       "         1.04788722e-04,   1.20202599e-04,   1.32307348e-04,\n",
       "         1.40757908e-04,   1.54326712e-04,   1.91715450e-04,\n",
       "         1.81159892e-04,   1.54653547e-04,   1.55743981e-04,\n",
       "         1.74888016e-04,   1.33519658e-04,   1.03851090e-04,\n",
       "         1.07450385e-04,   8.49975249e-05,   9.81348875e-05,\n",
       "         1.73432337e-04,   3.52305291e-02,   3.52305291e-02,\n",
       "         3.52305291e-02,   3.52305291e-02,   3.52305291e-02,\n",
       "         3.52305291e-02,   3.52305291e-02,   3.52305291e-02,\n",
       "         3.52305291e-02,   3.52305291e-02,   3.52305291e-02,\n",
       "         3.52305291e-02,   3.52305291e-02,   3.52305291e-02,\n",
       "         3.52305291e-02,   3.52305291e-02,   3.52305291e-02,\n",
       "         3.52305291e-02,   3.52305291e-02,   3.52305291e-02,\n",
       "         3.52305291e-02,   3.52305291e-02,   3.52305291e-02,\n",
       "         3.52305291e-02,   3.52305291e-02,   3.52305291e-02,\n",
       "         3.52305291e-02,   3.52305291e-02,   3.52305291e-02,\n",
       "         3.52305291e-02,   3.52305291e-02,   3.52305291e-02,\n",
       "         3.52305291e-02,   3.52305291e-02,   3.52305291e-02,\n",
       "         3.73891904e-05,   1.43511485e-05,   8.89779208e-06,\n",
       "         7.45308858e-06,   7.10867850e-06,   7.00822478e-06,\n",
       "         8.41907694e-06,   1.16215307e-05,   1.60597396e-05,\n",
       "         1.84639500e-05,   2.51293996e-05,   2.91240928e-05,\n",
       "         3.25743540e-05,   3.47976600e-05,   3.72682530e-05,\n",
       "         3.80093404e-05,   3.43311690e-05,   3.45618587e-05,\n",
       "         4.07812258e-05,   3.59792273e-05,   3.31103135e-05,\n",
       "         2.96877728e-05,   2.84922940e-05,   3.02554853e-05,\n",
       "         2.99340046e-05,   2.76840710e-05,   2.76540856e-05,\n",
       "         2.74826820e-05,   2.89122138e-05,   2.99803212e-05,\n",
       "         2.98150642e-05,   3.30564236e-05,   3.79283556e-05,\n",
       "         6.02933828e-05,   7.94602455e-05,   8.64066930e-05,\n",
       "         1.12898822e-04,   1.51039246e-04,   1.61027223e-04,\n",
       "         2.19159712e-04,   2.84709030e-04,   3.50678768e-04,\n",
       "         3.42849828e-04,   3.50395155e-04,   3.38611499e-04,\n",
       "         3.12466215e-04,   2.60294481e-04,   3.04569667e-04,\n",
       "         3.08620029e-04,   2.77276889e-04,   2.82724243e-04,\n",
       "         2.53321443e-04,   1.35155732e-04,   9.29538862e-05,\n",
       "         8.01981527e-05,   8.95559946e-05,   1.63705830e-04,\n",
       "         3.52305291e-02,   3.52305291e-02,   3.52305291e-02,\n",
       "         3.52305291e-02,   3.52305291e-02,   3.52305291e-02,\n",
       "         3.52305291e-02,   3.52305291e-02,   3.52305291e-02,\n",
       "         3.52305291e-02,   3.52305291e-02,   3.52305291e-02,\n",
       "         3.52305291e-02,   3.52305291e-02,   1.69680792e-04,\n",
       "         5.39441203e-05,   3.29725919e-05,   1.77632593e-05,\n",
       "         1.36967107e-05,   1.19960153e-05,   8.68858251e-06,\n",
       "         7.73518190e-06,   7.53726196e-06,   7.20501772e-06,\n",
       "         7.32032805e-06,   8.27362753e-06,   8.82914896e-06,\n",
       "         9.48052893e-06,   9.84187531e-06,   1.19075306e-05,\n",
       "         1.31635590e-05,   1.37951838e-05,   1.79787510e-05,\n",
       "         1.44669464e-05,   1.16006369e-05,   9.91155759e-06,\n",
       "         8.46614665e-06,   7.24263176e-06,   6.76358501e-06,\n",
       "         6.79756874e-06,   6.68080592e-06,   6.67799357e-06,\n",
       "         6.88326800e-06,   7.06539130e-06,   7.26352246e-06,\n",
       "         8.81370945e-06,   1.08002598e-05,   1.34605012e-05,\n",
       "         1.60482992e-05,   2.09385113e-05,   2.49066221e-05,\n",
       "         2.53213665e-05,   2.33430660e-05,   2.14560823e-05,\n",
       "         1.76928478e-05,   1.46985235e-05,   1.30385204e-05,\n",
       "         1.33349864e-05,   1.37886019e-05,   1.41458893e-05,\n",
       "         1.55713648e-05,   1.60555543e-05,   1.68329258e-05,\n",
       "         1.69400900e-05,   1.89520968e-05,   2.26660949e-05,\n",
       "         3.01632483e-05,   4.64524205e-05,   7.69185414e-05,\n",
       "         7.99732781e-05,   8.46102743e-05,   7.79936426e-05,\n",
       "         7.62747298e-05,   9.91588162e-05,   1.15063196e-04,\n",
       "         1.57622490e-04,   1.99881796e-04,   2.22967279e-04,\n",
       "         2.22528861e-04,   2.21582131e-04,   2.51075224e-04,\n",
       "         2.31141252e-04,   2.58589957e-04,   4.01195404e-04,\n",
       "         4.43277008e-04,   2.31247138e-04,   1.81011433e-04,\n",
       "         1.71790364e-04,   1.63919642e-04,   1.53960798e-04,\n",
       "         1.39345895e-04,   1.06147700e-04,   7.56099057e-05,\n",
       "         6.49741126e-05,   5.71293731e-05,   5.53672706e-05,\n",
       "         5.35790662e-05,   5.91792234e-05,   6.74113440e-05,\n",
       "         7.22200287e-05,   4.54903983e-05,   3.15265009e-05,\n",
       "         3.25908871e-05,   3.89209540e-05,   4.43091697e-05,\n",
       "         4.31977485e-05,   3.48203256e-05,   2.81476448e-05,\n",
       "         2.77151421e-05,   2.09770259e-05,   1.99817344e-05,\n",
       "         1.46836873e-05,   1.65946571e-05,   1.49670158e-05,\n",
       "         1.16080853e-05,   9.40712178e-06,   8.35582193e-06,\n",
       "         8.33384358e-06,   8.66173879e-06,   8.86977817e-06,\n",
       "         8.72079257e-06,   9.49369149e-06,   9.42315586e-06,\n",
       "         1.07993162e-05,   1.05754645e-05,   1.20827107e-05,\n",
       "         1.42525806e-05,   1.75455562e-05,   2.01947207e-05,\n",
       "         1.58905758e-05,   1.30289430e-05,   1.16138098e-05,\n",
       "         1.02372382e-05,   8.78129858e-06,   7.51613208e-06,\n",
       "         6.77562342e-06,   6.15386007e-06,   5.72777164e-06,\n",
       "         5.31361604e-06,   4.94179989e-06,   4.81552585e-06,\n",
       "         5.24247886e-06,   5.64982570e-06,   6.13833554e-06,\n",
       "         6.53174690e-06,   7.35860007e-06,   8.66840527e-06,\n",
       "         1.01678559e-05,   1.19935630e-05,   1.48135856e-05,\n",
       "         2.08201762e-05,   3.37000173e-05,   4.99113861e-05,\n",
       "         3.92411113e-05,   3.67640321e-05,   2.82790842e-05,\n",
       "         2.65453736e-05,   2.58417894e-05,   2.51529233e-05,\n",
       "         2.50038911e-05,   2.60025913e-05,   2.68554175e-05,\n",
       "         2.72756659e-05,   2.73224436e-05,   2.89001563e-05,\n",
       "         3.43259154e-05,   4.14804612e-05,   6.33465827e-05,\n",
       "         1.20527528e-04,   1.73238299e-04,   2.83316574e-04,\n",
       "         6.43539482e-04,   1.57066769e-03,   1.56792709e-03,\n",
       "         1.52393236e-03,   1.53701887e-03,   1.26916975e-03,\n",
       "         4.73444582e-04,   3.73581234e-04,   3.34707335e-04,\n",
       "         2.67501838e-04,   1.22774767e-04,   8.09195431e-05,\n",
       "         6.40553490e-05,   5.34365715e-05,   4.03722242e-05,\n",
       "         3.17746314e-05,   2.77389320e-05,   2.74122887e-05,\n",
       "         2.78976097e-05,   2.66922732e-05,   2.50908066e-05,\n",
       "         2.52259313e-05,   2.84729450e-05,   3.27023696e-05,\n",
       "         2.73172925e-05,   1.93118371e-05,   9.52026217e-06,\n",
       "         9.69893886e-06,   1.03042999e-05,   1.11857480e-05,\n",
       "         1.14922633e-05,   1.15494436e-05,   1.09927050e-05,\n",
       "         1.04414827e-05,   1.03840230e-05,   1.06954007e-05,\n",
       "         1.25610830e-05,   1.68152413e-05,   2.80755257e-04,\n",
       "         3.05738301e-04,   5.79225104e-04,   1.65327321e-04,\n",
       "         1.38285068e-04,   1.16639688e-04,   2.95341543e-04,\n",
       "         1.89696710e-04,   7.12614117e-05,   3.19130650e-05,\n",
       "         1.99675274e-05,   1.59693464e-05,   1.41999260e-05,\n",
       "         1.38193033e-05,   1.25593488e-05,   1.20341039e-05,\n",
       "         1.02786044e-05,   9.38537557e-06,   8.87247821e-06,\n",
       "         8.89607137e-06,   8.64566432e-06,   8.86581339e-06,\n",
       "         8.90840763e-06,   8.41745975e-06,   8.27852627e-06,\n",
       "         7.41909682e-06,   6.68797329e-06,   5.76523580e-06,\n",
       "         5.84436277e-06,   5.79611677e-06,   5.60597924e-06,\n",
       "         5.48701437e-06,   5.61015237e-06,   5.70850406e-06,\n",
       "         5.89173812e-06,   6.38278879e-06,   6.76134176e-06,\n",
       "         7.73009892e-06,   8.49637137e-06,   1.01106245e-05,\n",
       "         1.08376104e-05,   1.20047669e-05,   1.40209225e-05,\n",
       "         1.60112610e-05,   1.85653237e-05,   2.19358267e-05,\n",
       "         2.66532386e-05,   2.99293363e-05,   3.31726742e-05,\n",
       "         3.46968874e-05,   4.64753189e-05,   6.43186768e-05,\n",
       "         9.22317034e-05,   1.61396820e-04,   2.03809028e-04,\n",
       "         3.33507986e-04,   2.69713875e-04,   2.68597380e-04,\n",
       "         2.61807968e-04,   2.57475918e-04,   3.47042576e-04,\n",
       "         4.34886671e-04,   4.25489752e-04,   4.41867294e-04,\n",
       "         3.73719505e-04,   3.44948981e-04,   3.52640185e-04,\n",
       "         3.39128874e-04,   3.95164561e-04,   3.92739103e-04,\n",
       "         3.65636574e-04,   3.36331693e-04,   1.85122367e-04,\n",
       "         1.68438809e-04,   1.59307319e-04,   1.26657741e-04,\n",
       "         1.30190076e-04,   1.37462152e-04,   1.42977040e-04,\n",
       "         1.76544032e-04,   2.02308744e-04,   3.88277174e-04,\n",
       "         1.71644458e-04,   2.57246730e-04,   4.36778888e-04,\n",
       "         4.47285952e-04,   5.03154203e-04,   8.40764935e-04,\n",
       "         8.10306413e-04])"
      ]
     },
     "execution_count": 58,
     "metadata": {},
     "output_type": "execute_result"
    }
   ],
   "source": [
    "sdmod_tune.models['AggregateLoad']['alpha']"
   ]
  },
  {
   "cell_type": "code",
   "execution_count": 42,
   "metadata": {
    "collapsed": false
   },
   "outputs": [
    {
     "data": {
      "text/plain": [
       "[<matplotlib.lines.Line2D at 0x1040db4a8>]"
      ]
     },
     "execution_count": 42,
     "metadata": {},
     "output_type": "execute_result"
    },
    {
     "data": {
      "image/png": "[encoded data removed]",
      "text/plain": [
       "<matplotlib.figure.Figure at 0x11fa1d4a8>"
      ]
     },
     "metadata": {},
     "output_type": "display_data"
    }
   ],
   "source": [
    "plt.plot(sdmod.models['solar_3918']['alpha'])"
   ]
  },
  {
   "cell_type": "code",
   "execution_count": 34,
   "metadata": {
    "collapsed": false
   },
   "outputs": [
    {
     "data": {
      "text/plain": [
       "1.4056632"
      ]
     },
     "execution_count": 34,
     "metadata": {},
     "output_type": "execute_result"
    }
   ],
   "source": [
    "np.mean(np.abs(sdmod_tune.netloads['solar_3918']))"
   ]
  }
 ],
 "metadata": {
  "kernelspec": {
   "display_name": "Python 3",
   "language": "python",
   "name": "python3"
  },
  "language_info": {
   "codemirror_mode": {
    "name": "ipython",
    "version": 3
   },
   "file_extension": ".py",
   "mimetype": "text/x-python",
   "name": "python",
   "nbconvert_exporter": "python",
   "pygments_lexer": "ipython3",
   "version": "3.5.0"
  }
 },
 "nbformat": 4,
 "nbformat_minor": 0
}
