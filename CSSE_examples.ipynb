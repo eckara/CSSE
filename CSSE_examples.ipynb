{
 "cells": [
  {
   "cell_type": "markdown",
   "metadata": {},
   "source": [
    "## Contextually Supervised Source Seperation\n",
    "The equation below displays this problem where the vector $\\bar y$ is observed and each source signal, $y_i$ is unobserved.\n",
    "\\begin{equation}\n",
    "\\bar y = \\sum_{i=0}^{k} y_i\n",
    "\\label{eq.cons}\n",
    "\\end{equation}\n",
    "\n",
    "Contextual separation is achieved by (A) relating each source signal to exogenous observations, and (B) exploiting known regularity in the source signals.\n",
    "Below we present the general form of this optimization as presented in [P1](http://www.aaai.org/ocs/index.php/AAAI/AAAI14/paper/download/8629/8460). $\\ell_i()$ is a cost function to fit the source signal, $y_i$ to the exogenous variables, $X_i$, using a linear transformation with parameters $\\theta_i$; $g_i()$ is a regularization term applied to the source signal which would elicit smoothness or other periodic regularity; and $h_i()$ is a regularization term for the parameters $\\theta_i$.\n",
    "\n",
    "\\begin{align}\n",
    "\\min_{Y,\\theta}\\hspace{5mm}& \\sum_{i=0}^{k} \\{ \\ell_i(y_i, X_i \\theta_i) + g_i(y_i) + h_i(\\theta_i)\\}\\\\\n",
    "\\mbox{s.t.,}\\hspace{5mm}&  \\bar y = \\sum_{i=0}^{k} y_i\n",
    "\\label{general}\n",
    "\\end{align}"
   ]
  },
  {
   "cell_type": "code",
   "execution_count": 1,
   "metadata": {
    "collapsed": false
   },
   "outputs": [
    {
     "ename": "SyntaxError",
     "evalue": "invalid syntax (<ipython-input-1-2546946f4b15>, line 2)",
     "output_type": "error",
     "traceback": [
      "\u001b[0;36m  File \u001b[0;32m\"<ipython-input-1-2546946f4b15>\"\u001b[0;36m, line \u001b[0;32m2\u001b[0m\n\u001b[0;31m    This packages deploys contextually supervised source separation (CSSS) techniques in python. CSSS was originally decribed by Wytock and Kolter in [1] and we follow their original notation in this docuemntation.  We also include updates and extensions of the origianl CSSS method as created by the authors of this package in their applied work [2-4].\u001b[0m\n\u001b[0m                ^\u001b[0m\n\u001b[0;31mSyntaxError\u001b[0m\u001b[0;31m:\u001b[0m invalid syntax\n"
     ]
    }
   ],
   "source": [
    "# Contextually Supervised Source Separation (CSSS)\n",
    "This packages deploys contextually supervised source separation (CSSS) techniques in python. CSSS was originally decribed by Wytock and Kolter in [1] and we follow their original notation in this docuemntation.  We also include updates and extensions of the origianl CSSS method as created by the authors of this package in their applied work [2-4]. \t\n",
    "\n",
    "CSSS is the disaggregation of a time series of source signals from observations of their sum. Equation~\\ref{} displays this problem where the vector $\\bar y$ is observed and each source signal, $y_i$ is unobserved. \n",
    "\\begin{equation}\n",
    "\\bar y = \\sum_{i=0}^{k} y_i\n",
    "\\end{equation}\n",
    "\n",
    "Contextual separation is achieved by (A) relating each source signal to exogenous observations, and (B) exploiting known regularity in the source signals. \n",
    "Equation~\\ref{} displays the general form of this optimization as presented in [1]. $\\ell_i()$ is a cost function to fit the source signal, $y_i$ to the exogenous variables, $X_i$, using a linear transformation with parameters $theta_i$; $g_i()$ is a regularization term applied to the source signal which would elicit smoothness or other periodic regularity; and $h_i()$ is a regularization term for the parameters $\\theta_i$. \n",
    "\n",
    "\\begin{align}\n",
    "\\min_{Y,\\theta}\\hspace{5mm}& \\sum_{i=0}^{k} \\{ \\ell_i(y_i, X_i \\theta_i) + g_i(y_i) + h_i(\\theta_i)\\}\\\\\n",
    "\\mbox{s.t.,}\\hspace{5mm}&  \\bar y = \\sum_{i=0}^{k} y_i\n",
    "\\end{align}\n"
   ]
  }
 ],
 "metadata": {
  "kernelspec": {
   "display_name": "Python 2",
   "language": "python",
   "name": "python2"
  },
  "language_info": {
   "codemirror_mode": {
    "name": "ipython",
    "version": 2
   },
   "file_extension": ".py",
   "mimetype": "text/x-python",
   "name": "python",
   "nbconvert_exporter": "python",
   "pygments_lexer": "ipython2",
   "version": "2.7.12"
  }
 },
 "nbformat": 4,
 "nbformat_minor": 2
}
