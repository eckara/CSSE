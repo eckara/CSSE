{
 "cells": [
  {
   "cell_type": "markdown",
   "metadata": {},
   "source": [
    "## Solar Disagg Individual Home Tutorial\n",
    "The SolarDisagg subModule is build on top of the CSSS module and consists primarily of two classes:\n",
    "- `SolarDisagg_IndvHome`, which follows the training problem outlined in the BuildSys poblication, and \n",
    "- `SolarDisagg_IndvHome_Realtime`, which follows the streaming problem outlined in the BuildSys Publication. "
   ]
  },
  {
   "cell_type": "code",
   "execution_count": 1,
   "metadata": {
    "collapsed": true
   },
   "outputs": [],
   "source": [
    "import sys\n",
    "sys.path.append(\"..\") # Adds higher directory to python modules path.\n",
    "\n",
    "import numpy as np\n",
    "import pandas as pd\n",
    "import csss\n",
    "import sqlalchemy as sq\n",
    "import matplotlib.pyplot as plt\n",
    "import pytz\n",
    "import datetime as dt\n",
    "import pickle as pk\n",
    "from imp import reload\n",
    "import copy\n",
    "import seaborn as sns\n",
    "\n",
    "% matplotlib inline"
   ]
  },
  {
   "cell_type": "code",
   "execution_count": 2,
   "metadata": {
    "collapsed": true
   },
   "outputs": [],
   "source": [
    "def createTempInput(temp, size, minTemp=None, maxTemp=None, intercept = False):\n",
    "    if (minTemp is None):\n",
    "        minTemp=min(temp)\n",
    "    if maxTemp is None:\n",
    "        maxTemp=max(temp)\n",
    "    minBound=int(np.floor(minTemp / size)) * size\n",
    "    maxBound=int(np.floor(maxTemp / size)) * size + size\n",
    "\n",
    "    rangeCount = int((maxBound-minBound) / size)\n",
    "    result     = np.zeros((len(temp), rangeCount+intercept))\n",
    "    t = 0\n",
    "    for elem in temp:\n",
    "        fullRanges = min( int(np.floor((elem-minBound) / size)), rangeCount-1)\n",
    "        fullRanges = max(0, fullRanges)\n",
    "        bound      = (minBound+fullRanges*size)\n",
    "        lastRange  = elem-bound\n",
    "        res        = [size for elem in range(fullRanges)]\n",
    "        res.append(lastRange)\n",
    "        for var in range(rangeCount-fullRanges-1):\n",
    "            res.append(0)\n",
    "        if intercept:\n",
    "            res.append(1)  ## Include an intercept\n",
    "                \n",
    "            \n",
    "        result[t,:] = np.array(res)\n",
    "        t +=1\n",
    "    return minTemp, maxTemp,result"
   ]
  },
  {
   "cell_type": "code",
   "execution_count": 3,
   "metadata": {
    "collapsed": false
   },
   "outputs": [],
   "source": [
    "## Load data and prepare regressors. \n",
    "tutorial_data = pk.load( open( \"Solar_Disaggregation_Analysis/data/tutorial_data.pkl\", \"rb\" ) )\n",
    "\n",
    "Tmin, Tmax, temp_regress = createTempInput(tutorial_data['temperature'], 10)\n",
    "hod          = pd.Series([t.hour for t in tutorial_data['times']])\n",
    "hod          = np.array(pd.get_dummies(hod))\n",
    "\n",
    "loadregressors = np.hstack([hod,temp_regress])\n",
    "tuneregressors = hod\n",
    "netload        = tutorial_data['netload']\n",
    "solarproxy     = tutorial_data['solarproxy']\n",
    "names          = ['solar_%d' % d for d in np.arange(netload.shape[1])+1]\n"
   ]
  },
  {
   "cell_type": "code",
   "execution_count": 4,
   "metadata": {
    "collapsed": false
   },
   "outputs": [
    {
     "name": "stderr",
     "output_type": "stream",
     "text": [
      "/Library/Frameworks/Python.framework/Versions/3.5/lib/python3.5/site-packages/scipy/linalg/basic.py:884: RuntimeWarning: internal gelsd driver lwork query error, required iwork dimension not returned. This is likely the result of LAPACK bug 0038, fixed in LAPACK 3.2.2 (released July 21, 2010). Falling back to 'gelss' driver.\n",
      "  warnings.warn(mesg, RuntimeWarning)\n"
     ]
    },
    {
     "data": {
      "text/plain": [
       "0.9934590169719306"
      ]
     },
     "execution_count": 4,
     "metadata": {},
     "output_type": "execute_result"
    }
   ],
   "source": [
    "## Construct solar disaggregation problem\n",
    "reload(csss.SolarDisagg)\n",
    "\n",
    "## Create an initial model with equally weighted sources\n",
    "sdmod0 = csss.SolarDisagg.SolarDisagg_IndvHome(netloads=netload,                ## Matrix of net loads at each meter\n",
    "                                               solarregressors=solarproxy,      ## X_i for all i\n",
    "                                               loadregressors=loadregressors,   ## X_L \n",
    "                                               tuningregressors=tuneregressors, ## X_tune\n",
    "                                               names = names)                   ## Optional list of names for solar generation behind each meter. \n",
    "## The class initialization builds upon the CSSS class\n",
    "## It creates N+1 sources, N for solar and 1 for aggregate load\n",
    "## It constrains solar ot be negative and less than net load\n",
    "## It constrains aggregate load to be positive. \n",
    "\n",
    "\n",
    "## Add true solar values for, at least, the tuning system:\n",
    "## These are used for evaluating performance metrics and for tuning\n",
    "for d in range(8):\n",
    "    source_name = 'solar_%d' % (d+1)\n",
    "    sdmod0.addTrueValue(name=source_name, trueValue=tutorial_data['solartruth'][:,d])\n",
    "\n",
    "\n",
    "## Construct and solve the problem. \n",
    "sdmod0.constructSolve()              ## Construct and solve the initial problem with flat alphas\n",
    "sdmod_tune = copy.deepcopy(sdmod0)   ## Make a copy to save the initial problem\n",
    "\n",
    "## Fit models to predict expected variance of errors given tuning regressors ***\n",
    "# *********** *********** *********** *********** *********** *********** ******\n",
    "sdmod_tune.fitTuneModels(            \n",
    "    tuneSys=['solar_%s' % d for d in [1,2]]  ## Systems used for tuning must have true values loaded\n",
    "    ) \n",
    "## This method adds two methods to the overall class, both are instances of scikitlearn.linear_models.LinearRegression()\n",
    "# self.Solar_var_norm() is a LinearRegression model predicting normalized variance of errors in solar models from the tuning regressors\n",
    "# self.Total_NL_var() predicts the variance of errors of the total net load model\n",
    "\n",
    "## fitTuneModels() also adds varaince lower bounds to each model dictionary under the key 'var_lb'. \n",
    "\n",
    "## Use the models to find tuned values of alpha. *******************************\n",
    "# *********** *********** *********** *********** *********** *********** ******\n",
    "sdmod_tune.tuneAlphas()              \n",
    "## tuneAlphas() uses the models fit in fitTuneModels() to tune the alpha values for the entire problem. \n",
    "\n",
    "sdmod_tune.constructSolve()          ## Construct and solve the tuned model. \n"
   ]
  },
  {
   "cell_type": "code",
   "execution_count": 5,
   "metadata": {
    "collapsed": false
   },
   "outputs": [
    {
     "data": {
      "text/plain": [
       "0.9721177801329826"
      ]
     },
     "execution_count": 5,
     "metadata": {},
     "output_type": "execute_result"
    }
   ],
   "source": [
    "## Real Time Problem. *********************************\n",
    "## ****************************************************\n",
    "\n",
    "aggregateNetLoad = np.sum(netload, axis = 1)\n",
    "## The real time problem class is build with a fit training model class as an input. \n",
    "\n",
    "sdmod_st_train = csss.SolarDisagg.SolarDisagg_IndvHome_Realtime(\n",
    "    sdmod_tune,                        ## Training Model\n",
    "    aggregateNetLoad=aggregateNetLoad, ## Streaming aggregate net load from substation\n",
    "    solarregressors=solarproxy,        ## Streaming Solar Proxy\n",
    "    loadregressors=loadregressors,     ## Streaming Load Regressors\n",
    "    tuningregressors= tuneregressors)  ## Streaming Tuning Regressors\n",
    "\n",
    "sdmod_st_train.tuneAlphas()     ## We can tune Alphas because the tuning models were fit in the training problem. \n",
    "sdmod_st_train.constructSolve() ##  Solve it!\n",
    " "
   ]
  },
  {
   "cell_type": "code",
   "execution_count": null,
   "metadata": {
    "collapsed": true
   },
   "outputs": [],
   "source": []
  }
 ],
 "metadata": {
  "kernelspec": {
   "display_name": "Python 3",
   "language": "python",
   "name": "python3"
  },
  "language_info": {
   "codemirror_mode": {
    "name": "ipython",
    "version": 3
   },
   "file_extension": ".py",
   "mimetype": "text/x-python",
   "name": "python",
   "nbconvert_exporter": "python",
   "pygments_lexer": "ipython3",
   "version": "3.5.0"
  }
 },
 "nbformat": 4,
 "nbformat_minor": 0
}
