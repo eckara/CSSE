{
 "cells": [
  {
   "cell_type": "code",
   "execution_count": 1,
   "metadata": {},
   "outputs": [],
   "source": [
    "import pandas as pd\n",
    "import seaborn as sns\n",
    "import matplotlib.pyplot as plt\n",
    "import numpy as np\n",
    "import cvxpy as cvp\n",
    "from CSSS import CSSS\n",
    "import time \n",
    "%matplotlib inline"
   ]
  },
  {
   "cell_type": "markdown",
   "metadata": {},
   "source": [
    "Import the data and drop rows with NAN."
   ]
  },
  {
   "cell_type": "code",
   "execution_count": 2,
   "metadata": {},
   "outputs": [],
   "source": [
    "df=pd.read_csv('input_data.csv')\n",
    "df=df.dropna()"
   ]
  },
  {
   "cell_type": "code",
   "execution_count": null,
   "metadata": {},
   "outputs": [],
   "source": [
    "### Look at the solar proxies\n",
    "plt.plot(df['Irradiance'])\n",
    "plt.plot(df['IrradianceProxy'],'-r')"
   ]
  },
  {
   "cell_type": "code",
   "execution_count": null,
   "metadata": {},
   "outputs": [],
   "source": [
    "### Look at the total load shape\n",
    "plt.plot(df['Real_Power_Total'])"
   ]
  },
  {
   "cell_type": "code",
   "execution_count": null,
   "metadata": {},
   "outputs": [],
   "source": [
    "# Feeder-level Solar Disagg Using the New Class\n",
    "N=len(df)\n",
    "CSSS_solar = CSSS(np.array(df['Real_Power_Total']))  ## Instantiate model with aggregate signal, Y\n",
    "CSSS_solar.addSource(np.vstack((np.ones((1,N)),np.array(df['Reactive_Power_Total']))).transpose(), alpha = 1, name = 'Load',costFunction='l2')  ## Add a model for Load:  Q + intercept term as regressor\n",
    "CSSS_solar.addSource(np.array(df['IrradianceProxy']), alpha = 1, name = 'Solar',costFunction='l2') ## Add a model for Solar: Irradiance Proxy Only as regressor.\n",
    "\n",
    "## Constrain Solar to be <= 0 . \n",
    "CSSS_solar.addConstraint(CSSS_solar.models['Solar']['source'] <= 0 )\n",
    "## Constrain Load to be >=0\n",
    "CSSS_solar.addConstraint(CSSS_solar.models['Load']['source'] >= 0 )\n",
    "\n",
    "start=time.time()\n",
    "a=CSSS_solar.constructSolve()\n",
    "print(\"It took {} seconds in centralized CSSS\".format(time.time()-start))\n",
    "    "
   ]
  },
  {
   "cell_type": "code",
   "execution_count": null,
   "metadata": {},
   "outputs": [],
   "source": [
    "plt.plot(CSSS_solar.models['Solar']['source'].value, label = 'Disaggregated_Solar')\n",
    "plt.plot(CSSS_solar.models['Load']['source'].value, label = 'Disaggregated_Load')\n",
    "\n",
    "plt.plot(-1*df['Real_Power_PV'], label = 'Actual_Solar')\n",
    "plt.plot(df['Real_Power_Total']+df['Real_Power_PV'], label = 'Actual_Load')\n",
    "\n",
    "plt.legend()\n",
    "plt.show()"
   ]
  }
 ],
 "metadata": {
  "kernelspec": {
   "display_name": "csss",
   "language": "python",
   "name": "csss"
  },
  "language_info": {
   "codemirror_mode": {
    "name": "ipython",
    "version": 2
   },
   "file_extension": ".py",
   "mimetype": "text/x-python",
   "name": "python",
   "nbconvert_exporter": "python",
   "pygments_lexer": "ipython2",
   "version": "2.7.12"
  }
 },
 "nbformat": 4,
 "nbformat_minor": 2
}
