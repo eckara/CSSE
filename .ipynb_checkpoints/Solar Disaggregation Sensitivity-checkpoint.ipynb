{
 "cells": [
  {
   "cell_type": "markdown",
   "metadata": {
    "deletable": true,
    "editable": true
   },
   "source": [
    "### Solar Disaggregation Sensitivity Analysis\n"
   ]
  },
  {
   "cell_type": "code",
   "execution_count": 1,
   "metadata": {
    "collapsed": false,
    "deletable": true,
    "editable": true
   },
   "outputs": [],
   "source": [
    "import numpy as np\n",
    "import pandas as pd\n",
    "import csss\n",
    "import sqlalchemy as sq\n",
    "import matplotlib.pyplot as plt\n",
    "import pytz\n",
    "import datetime as dt\n",
    "import pickle as pk\n",
    "from imp import reload\n",
    "import copy\n",
    "\n",
    "\n",
    "% matplotlib inline"
   ]
  },
  {
   "cell_type": "code",
   "execution_count": null,
   "metadata": {
    "collapsed": false
   },
   "outputs": [],
   "source": []
  },
  {
   "cell_type": "markdown",
   "metadata": {
    "deletable": true,
    "editable": true
   },
   "source": [
    "## Load Data\n",
    "Load home and weather data, previously stored in Pickle files. \n",
    "\n",
    "Cursory plots shows that a some homes exhibit very correlated furnace and air conditioning energy use, possbily the use of fans in ducts. I may need to create a method for filtering out the furnace use that is associated with cooling. Possibly all heating use that is simultaneous with cooling is also cooling. \n",
    "\n",
    "There is also cooling consumption in February in some homes, it could be that the opposite is true, and for some homes fans are included on the air conditioning circuit. "
   ]
  },
  {
   "cell_type": "code",
   "execution_count": 2,
   "metadata": {
    "collapsed": false,
    "deletable": true,
    "editable": true
   },
   "outputs": [
    {
     "name": "stdout",
     "output_type": "stream",
     "text": [
      "There are 200 homes in the dataset\n"
     ]
    }
   ],
   "source": [
    "loaddata = pk.load(open('data/demand.pkl', 'rb'))\n",
    "homeids = np.unique(loaddata['dataid'])\n",
    "print('There are %d homes in the dataset' % len(homeids))"
   ]
  },
  {
   "cell_type": "code",
   "execution_count": 3,
   "metadata": {
    "collapsed": false,
    "deletable": true,
    "editable": true
   },
   "outputs": [],
   "source": [
    "## Make a heating and cooling column\n",
    "loaddata['cooling'] = np.sum(loaddata[['air1','air2','air3','airwindowunit1']], axis = 1)\n",
    "loaddata['heating'] = np.sum(loaddata[['furnace1','furnace2']], axis = 1)"
   ]
  },
  {
   "cell_type": "code",
   "execution_count": 4,
   "metadata": {
    "collapsed": false,
    "deletable": true,
    "editable": true
   },
   "outputs": [],
   "source": [
    "loadgroup = loaddata[['dataid','use','gen','heating','cooling']].groupby(\"dataid\")\n",
    "loaddata_counts = loadgroup.count()\n",
    "loaddata_means  = loadgroup.mean()\n",
    "loaddata_counts.columns = ['count_' + d for d in loaddata_counts.columns]\n",
    "loaddata_means.columns  = ['mean_' + d for d in loaddata_means.columns]\n",
    "load_summary = pd.concat([loaddata_counts,loaddata_means], axis = 1)"
   ]
  },
  {
   "cell_type": "code",
   "execution_count": 5,
   "metadata": {
    "collapsed": false,
    "deletable": true,
    "editable": true
   },
   "outputs": [],
   "source": [
    "load_summary = load_summary.loc[load_summary['count_use'] == np.max(load_summary['count_use']),:]"
   ]
  },
  {
   "cell_type": "code",
   "execution_count": 6,
   "metadata": {
    "collapsed": false,
    "deletable": true,
    "editable": true
   },
   "outputs": [
    {
     "name": "stdout",
     "output_type": "stream",
     "text": [
      "There are 89 homes with complete data\n",
      "52 homes solar\n",
      "82 homes cooling\n",
      "63 homes heating\n"
     ]
    }
   ],
   "source": [
    "print('There are %d homes with complete data' % load_summary.shape[0])\n",
    "print('%d homes solar' % np.sum(load_summary['count_gen']>0))\n",
    "print('%d homes cooling' % np.sum(load_summary['count_cooling']>0))\n",
    "print('%d homes heating' % np.sum(load_summary['count_heating']>0))"
   ]
  },
  {
   "cell_type": "code",
   "execution_count": 7,
   "metadata": {
    "collapsed": false,
    "deletable": true,
    "editable": true
   },
   "outputs": [
    {
     "data": {
      "text/plain": [
       "(735785.0, 735786.0)"
      ]
     },
     "execution_count": 7,
     "metadata": {},
     "output_type": "execute_result"
    },
    {
     "data": {
      "image/png": "[encoded data removed]",
      "text/plain": [
       "<matplotlib.figure.Figure at 0x1040b2a90>"
      ]
     },
     "metadata": {},
     "output_type": "display_data"
    }
   ],
   "source": [
    "## Do a quick plot of load data\n",
    "fig = plt.figure()\n",
    "ax = plt.gca()\n",
    "\n",
    "dataid = np.random.choice(load_summary.index, size=1)[0]\n",
    "\n",
    "data = loaddata.groupby('dataid').get_group(dataid)\n",
    "\n",
    "ax.plot(data['local_15min'],-data['gen'], label = 'solar generation')\n",
    "ax.plot(data['local_15min'],data['use'], label = 'consumption')\n",
    "ax.plot(data['local_15min'],data['cooling'], label = 'cooling consumption')\n",
    "ax.plot(data['local_15min'],data['heating'], label = 'heating consumption')\n",
    "ax.set_title(dataid)\n",
    "ax.legend()\n",
    "\n",
    "plt.xticks(rotation = 90)\n",
    "\n",
    "start = dt.datetime(2015,7,6)\n",
    "dur   = dt.timedelta(days = 1)\n",
    "\n",
    "ax.set_xlim(start, start + dur)"
   ]
  },
  {
   "cell_type": "markdown",
   "metadata": {
    "deletable": true,
    "editable": true
   },
   "source": [
    "## Climate Data\n",
    "Load Appropriate Climate Data from Pecan Street.  There is no way to identify which homes belong to which datase.  There are only three locations, I'll pull all of them. "
   ]
  },
  {
   "cell_type": "code",
   "execution_count": 8,
   "metadata": {
    "collapsed": false,
    "deletable": true,
    "editable": true
   },
   "outputs": [
    {
     "data": {
      "text/html": [
       "<div>\n",
       "<style>\n",
       "    .dataframe thead tr:only-child th {\n",
       "        text-align: right;\n",
       "    }\n",
       "\n",
       "    .dataframe thead th {\n",
       "        text-align: left;\n",
       "    }\n",
       "\n",
       "    .dataframe tbody tr th {\n",
       "        vertical-align: top;\n",
       "    }\n",
       "</style>\n",
       "<table border=\"1\" class=\"dataframe\">\n",
       "  <thead>\n",
       "    <tr style=\"text-align: right;\">\n",
       "      <th></th>\n",
       "      <th>localhour</th>\n",
       "      <th>latitude</th>\n",
       "      <th>longitude</th>\n",
       "      <th>tz_offset</th>\n",
       "      <th>summary</th>\n",
       "      <th>ozone</th>\n",
       "      <th>ozone_error</th>\n",
       "      <th>temperature</th>\n",
       "      <th>temperature_error</th>\n",
       "      <th>dew_point</th>\n",
       "      <th>...</th>\n",
       "      <th>wind_speed</th>\n",
       "      <th>wind_speed_error</th>\n",
       "      <th>cloud_cover</th>\n",
       "      <th>cloud_cover_error</th>\n",
       "      <th>wind_bearing</th>\n",
       "      <th>precip_intensity</th>\n",
       "      <th>precip_intensity_error</th>\n",
       "      <th>precip_probability</th>\n",
       "      <th>precip_type</th>\n",
       "      <th>Location</th>\n",
       "    </tr>\n",
       "  </thead>\n",
       "  <tbody>\n",
       "    <tr>\n",
       "      <th>0</th>\n",
       "      <td>2015-08-23 13:00:00-05:00</td>\n",
       "      <td>40.027278</td>\n",
       "      <td>-105.256111</td>\n",
       "      <td>-6</td>\n",
       "      <td>Clear</td>\n",
       "      <td>287.11</td>\n",
       "      <td>None</td>\n",
       "      <td>67.27</td>\n",
       "      <td>None</td>\n",
       "      <td>41.72</td>\n",
       "      <td>...</td>\n",
       "      <td>2.15</td>\n",
       "      <td>None</td>\n",
       "      <td>0.13</td>\n",
       "      <td>None</td>\n",
       "      <td>66</td>\n",
       "      <td>0.0</td>\n",
       "      <td>None</td>\n",
       "      <td>0.0</td>\n",
       "      <td>None</td>\n",
       "      <td>Boulder</td>\n",
       "    </tr>\n",
       "    <tr>\n",
       "      <th>1</th>\n",
       "      <td>2015-09-06 03:00:00-05:00</td>\n",
       "      <td>40.027278</td>\n",
       "      <td>-105.256111</td>\n",
       "      <td>-6</td>\n",
       "      <td>Clear</td>\n",
       "      <td>276.72</td>\n",
       "      <td>None</td>\n",
       "      <td>65.97</td>\n",
       "      <td>None</td>\n",
       "      <td>43.65</td>\n",
       "      <td>...</td>\n",
       "      <td>2.05</td>\n",
       "      <td>None</td>\n",
       "      <td>0.07</td>\n",
       "      <td>None</td>\n",
       "      <td>269</td>\n",
       "      <td>0.0</td>\n",
       "      <td>None</td>\n",
       "      <td>0.0</td>\n",
       "      <td>None</td>\n",
       "      <td>Boulder</td>\n",
       "    </tr>\n",
       "    <tr>\n",
       "      <th>2</th>\n",
       "      <td>2015-09-25 22:00:00-05:00</td>\n",
       "      <td>40.027278</td>\n",
       "      <td>-105.256111</td>\n",
       "      <td>-6</td>\n",
       "      <td>Clear</td>\n",
       "      <td>263.95</td>\n",
       "      <td>None</td>\n",
       "      <td>63.46</td>\n",
       "      <td>None</td>\n",
       "      <td>41.04</td>\n",
       "      <td>...</td>\n",
       "      <td>0.89</td>\n",
       "      <td>None</td>\n",
       "      <td>0.00</td>\n",
       "      <td>None</td>\n",
       "      <td>160</td>\n",
       "      <td>0.0</td>\n",
       "      <td>None</td>\n",
       "      <td>0.0</td>\n",
       "      <td>None</td>\n",
       "      <td>Boulder</td>\n",
       "    </tr>\n",
       "    <tr>\n",
       "      <th>3</th>\n",
       "      <td>2015-09-25 23:00:00-05:00</td>\n",
       "      <td>40.027278</td>\n",
       "      <td>-105.256111</td>\n",
       "      <td>-6</td>\n",
       "      <td>Clear</td>\n",
       "      <td>262.46</td>\n",
       "      <td>None</td>\n",
       "      <td>61.34</td>\n",
       "      <td>None</td>\n",
       "      <td>41.05</td>\n",
       "      <td>...</td>\n",
       "      <td>0.68</td>\n",
       "      <td>None</td>\n",
       "      <td>0.00</td>\n",
       "      <td>None</td>\n",
       "      <td>220</td>\n",
       "      <td>0.0</td>\n",
       "      <td>None</td>\n",
       "      <td>0.0</td>\n",
       "      <td>None</td>\n",
       "      <td>Boulder</td>\n",
       "    </tr>\n",
       "    <tr>\n",
       "      <th>4</th>\n",
       "      <td>2015-09-26 10:00:00-05:00</td>\n",
       "      <td>40.027278</td>\n",
       "      <td>-105.256111</td>\n",
       "      <td>-6</td>\n",
       "      <td>Clear</td>\n",
       "      <td>248.03</td>\n",
       "      <td>None</td>\n",
       "      <td>60.14</td>\n",
       "      <td>None</td>\n",
       "      <td>39.87</td>\n",
       "      <td>...</td>\n",
       "      <td>0.32</td>\n",
       "      <td>None</td>\n",
       "      <td>0.00</td>\n",
       "      <td>None</td>\n",
       "      <td>43</td>\n",
       "      <td>0.0</td>\n",
       "      <td>None</td>\n",
       "      <td>0.0</td>\n",
       "      <td>None</td>\n",
       "      <td>Boulder</td>\n",
       "    </tr>\n",
       "  </tbody>\n",
       "</table>\n",
       "<p>5 rows × 29 columns</p>\n",
       "</div>"
      ],
      "text/plain": [
       "                   localhour   latitude   longitude  tz_offset summary  \\\n",
       "0  2015-08-23 13:00:00-05:00  40.027278 -105.256111         -6   Clear   \n",
       "1  2015-09-06 03:00:00-05:00  40.027278 -105.256111         -6   Clear   \n",
       "2  2015-09-25 22:00:00-05:00  40.027278 -105.256111         -6   Clear   \n",
       "3  2015-09-25 23:00:00-05:00  40.027278 -105.256111         -6   Clear   \n",
       "4  2015-09-26 10:00:00-05:00  40.027278 -105.256111         -6   Clear   \n",
       "\n",
       "    ozone ozone_error  temperature temperature_error  dew_point    ...     \\\n",
       "0  287.11        None        67.27              None      41.72    ...      \n",
       "1  276.72        None        65.97              None      43.65    ...      \n",
       "2  263.95        None        63.46              None      41.04    ...      \n",
       "3  262.46        None        61.34              None      41.05    ...      \n",
       "4  248.03        None        60.14              None      39.87    ...      \n",
       "\n",
       "  wind_speed  wind_speed_error cloud_cover  cloud_cover_error wind_bearing  \\\n",
       "0       2.15              None        0.13               None           66   \n",
       "1       2.05              None        0.07               None          269   \n",
       "2       0.89              None        0.00               None          160   \n",
       "3       0.68              None        0.00               None          220   \n",
       "4       0.32              None        0.00               None           43   \n",
       "\n",
       "   precip_intensity precip_intensity_error  precip_probability precip_type  \\\n",
       "0               0.0                   None                 0.0        None   \n",
       "1               0.0                   None                 0.0        None   \n",
       "2               0.0                   None                 0.0        None   \n",
       "3               0.0                   None                 0.0        None   \n",
       "4               0.0                   None                 0.0        None   \n",
       "\n",
       "   Location  \n",
       "0   Boulder  \n",
       "1   Boulder  \n",
       "2   Boulder  \n",
       "3   Boulder  \n",
       "4   Boulder  \n",
       "\n",
       "[5 rows x 29 columns]"
      ]
     },
     "execution_count": 8,
     "metadata": {},
     "output_type": "execute_result"
    }
   ],
   "source": [
    "weather = pk.load(open('data/weather.pkl', 'rb'))\n",
    "weather.head()"
   ]
  },
  {
   "cell_type": "markdown",
   "metadata": {
    "deletable": true,
    "editable": true
   },
   "source": [
    "## Create Weather Regressors"
   ]
  },
  {
   "cell_type": "code",
   "execution_count": 9,
   "metadata": {
    "collapsed": false,
    "deletable": true,
    "editable": true
   },
   "outputs": [],
   "source": [
    "def createTempInput(temp, size, minTemp=None, maxTemp=None):\n",
    "    if (minTemp is None):\n",
    "        minTemp=min(temp)\n",
    "    if maxTemp is None:\n",
    "        maxTemp=max(temp)\n",
    "    minBound=int(np.floor(minTemp / size)) * size\n",
    "    maxBound=int(np.floor(maxTemp / size)) * size + size\n",
    "    rangeCount=int((maxBound-minBound) / size)\n",
    "    result=[]\n",
    "    for elem in temp:\n",
    "        fullRanges = min( int(np.floor((elem-minBound) / size)), rangeCount-1)\n",
    "        bound      = (minBound+fullRanges*size)\n",
    "        lastRange  = elem-bound\n",
    "        res        = [size for elem in range(fullRanges)]\n",
    "        res.append(lastRange)\n",
    "        for var in range(rangeCount-fullRanges-1):\n",
    "            res.append(0)\n",
    "        res.append(1)\n",
    "        result.append(res)\n",
    "    return minBound, maxBound,result\n",
    "\n",
    "\n",
    "weatherAustin = weather.groupby(\"Location\").get_group(\"Austin\").sort_values(\"localhour\")\n",
    "weatherAustin['time'] = pd.to_datetime(weatherAustin['localhour'], utc = True)\n",
    "#weatherAustin[\"time\"] = weatherAustin.set_index(\"localhour\").index.tz_localize(pytz.utc, ambiguous = False)\n",
    "weatherAustin = weatherAustin.set_index(\"time\")\n"
   ]
  },
  {
   "cell_type": "markdown",
   "metadata": {
    "deletable": true,
    "editable": true
   },
   "source": [
    "### Set up an example Solar Disaggregation on multiple homes"
   ]
  },
  {
   "cell_type": "markdown",
   "metadata": {
    "deletable": true,
    "editable": true
   },
   "source": [
    "## Create the individual homes model\n",
    "This code creates the CSSS model for disaggregating solar at individual homes. \n",
    "This is the training problem, not the real time problem. \n",
    "See note below on issues with values of alpha. \n",
    "\n",
    "### Alpha and solver errors\n",
    "The solver is sensitive to large values of alpha, particularly with more data.  There seems to be an inverse relationship between the maximum size of alpha and the amount of data. The errors scale with t he magnitude of alpha, not the difference between alphas, so by scaling the maximum alpha to 1, we may solve this problem. "
   ]
  },
  {
   "cell_type": "code",
   "execution_count": null,
   "metadata": {
    "collapsed": false
   },
   "outputs": [],
   "source": []
  },
  {
   "cell_type": "code",
   "execution_count": 10,
   "metadata": {
    "collapsed": false
   },
   "outputs": [],
   "source": [
    "## Choose homes \n",
    "Nhomes = 5\n",
    "\n",
    "## Identify dataids to use\n",
    "dataids = np.random.choice( load_summary.index[load_summary['count_gen']>0] , Nhomes, replace=False)\n",
    "proxyids = dataids[:1]   # Homes to be used as solar proxy\n",
    "tuneids  = dataids[1:4]  # Home to be used for tuning\n",
    "homeids = dataids[1:]    # Homes to be used for disaggregation\n",
    "\n",
    "## Set up data \n",
    "first = True\n",
    "for did in dataids:\n",
    "    dat = loaddata.groupby(\"dataid\").get_group(did).set_index('time')[['use','gen']]\n",
    "    dat['netload_%s' % did] = dat['use'] - dat['gen']\n",
    "    dat.columns = ['demand_%s' % did, 'solar_%s' % did, 'netload_%s' % did]\n",
    "\n",
    "    if first:\n",
    "        fulldata = dat\n",
    "        first = False\n",
    "    else:\n",
    "        fulldata = pd.concat([fulldata,dat], axis = 1)\n",
    "\n",
    "## Create aggregate load and aggregate net load columns. \n",
    "netloadcols = ['netload_%s' % d for d in homeids]\n",
    "loadcols    = ['demand_%s' %  d for d in homeids]\n",
    "proxycol    = ['solar_%s' %   d for d in proxyids]\n",
    "\n",
    "fulldata['AggregateNetLoad'] = np.sum(fulldata[netloadcols], axis = 1)\n",
    "fulldata['AggregateLoad']    = np.sum(fulldata[loadcols], axis = 1)\n"
   ]
  },
  {
   "cell_type": "code",
   "execution_count": 45,
   "metadata": {
    "collapsed": false
   },
   "outputs": [
    {
     "name": "stdout",
     "output_type": "stream",
     "text": [
      "solar_7863\n",
      "solar_7627\n",
      "solar_3918\n",
      "solar_8645\n",
      "[  4.20542051e-04   1.98055007e-04   4.87947759e-04   7.43555882e-05]\n",
      "0.000340169697262\n",
      "(9.1455431787777785e-05, 4938.6201123433539)\n",
      "(0.000117457345275076, 3274.7955367154864)\n",
      "(0.00019758890318342397, 5061.0129611969596)\n",
      "(5.2567217439175111e-05, 3979.9379259484722)\n",
      "(0.0014331369529098884, 697.77001979438683)\n"
     ]
    },
    {
     "data": {
      "text/plain": [
       "0.22591068475939943"
      ]
     },
     "execution_count": 45,
     "metadata": {},
     "output_type": "execute_result"
    }
   ],
   "source": [
    "## Time align weather data with load data using linear interpolation \n",
    "xp  = [t.value for t in weatherAustin.index ]\n",
    "x = [t.value for t in fulldata.index  ]\n",
    "fulldata['AustinTemp'] = np.interp(x = x ,xp=xp, fp =  weatherAustin['temperature'])\n",
    "\n",
    "data = fulldata.iloc[:1000,:]\n",
    "\n",
    "## Get HOD regressors\n",
    "hod = pd.Series([t.hour for t in data.index])\n",
    "hod = pd.get_dummies(hod)\n",
    "\n",
    "## Get temperature regressors\n",
    "Tmin, Tmax, tempregress = regressor=createTempInput(data['AustinTemp'], 10)\n",
    "\n",
    "loadregressors = np.hstack([hod,tempregress])\n",
    "netload = np.array(data[netloadcols])\n",
    "solarproxy = np.array(data[proxycol])\n",
    "names = ['solar_%s' % d for d in homeids]\n",
    "\n",
    "## Construct solar disaggregation problem\n",
    "reload(csss.SolarDisagg)\n",
    "sdmod0 = csss.SolarDisagg.SolarDisagg_IndvHome(netloads=netload, solarregressors=solarproxy, loadregressors=loadregressors, names = names)\n",
    "\n",
    "\n",
    "## add true vectors\n",
    "for d in homeids:\n",
    "    source_name = 'solar_%s' % d\n",
    "    sdmod0.addTrueValue(name=source_name, trueValue=data[source_name])\n",
    "\n",
    "sdmod0.constructSolve()\n",
    "sdmod_tune = copy.deepcopy(sdmod0)\n",
    "sdmod_tune.tuneAlphas(['solar_%s' % d for d in tuneids])\n",
    "sdmod_tune.constructSolve()\n"
   ]
  },
  {
   "cell_type": "code",
   "execution_count": 47,
   "metadata": {
    "collapsed": false
   },
   "outputs": [
    {
     "data": {
      "text/plain": [
       "(735601.25, 735603.25)"
      ]
     },
     "execution_count": 47,
     "metadata": {},
     "output_type": "execute_result"
    },
    {
     "data": {
      "image/png": "[encoded data removed]",
      "text/plain": [
       "<matplotlib.figure.Figure at 0x15db5da90>"
      ]
     },
     "metadata": {},
     "output_type": "display_data"
    },
    {
     "data": {
      "image/png": "[encoded data removed]",
      "text/plain": [
       "<matplotlib.figure.Figure at 0x11f281978>"
      ]
     },
     "metadata": {},
     "output_type": "display_data"
    }
   ],
   "source": [
    "sdmod = copy.deepcopy(sdmod0)\n",
    "i=0\n",
    "source_name = sdmod.names[i]\n",
    "fig = plt.figure()\n",
    "ax = plt.gca()\n",
    "ax.plot(sdmod.trueValues[source_name],  sdmod.models[source_name]['source'].value, '.')\n",
    "ax.plot(sdmod.trueValues[source_name],  -sdmod.trueValues[source_name], 'k-')\n",
    "ax.set_xlabel('True Solar')\n",
    "ax.set_ylabel('Disaggregated Solar')\n",
    "\n",
    "fig = plt.figure()\n",
    "ax = plt.gca()\n",
    "ax.plot(data.index,  -sdmod.models[source_name]['source'].value, '-', label = 'Disaggregated Solar')\n",
    "ax.plot(data.index,  data[source_name], '-', label = 'Actual Solar')\n",
    "start = dt.datetime(2015,1,3,0,0,0)\n",
    "start = pytz.timezone('America/Chicago').localize(start)\n",
    "ax.legend()\n",
    "ax.set_ylabel('Solar Generation')\n",
    "dur   = dt.timedelta(days = 2)\n",
    "plt.xticks(rotation = 90)\n",
    "\n",
    "ax.set_xlim(start, start + dur)"
   ]
  },
  {
   "cell_type": "code",
   "execution_count": 48,
   "metadata": {
    "collapsed": false
   },
   "outputs": [
    {
     "data": {
      "text/plain": [
       "(735601.25, 735603.25)"
      ]
     },
     "execution_count": 48,
     "metadata": {},
     "output_type": "execute_result"
    },
    {
     "data": {
      "image/png": "[encoded data removed]",
      "text/plain": [
       "<matplotlib.figure.Figure at 0x108fe11d0>"
      ]
     },
     "metadata": {},
     "output_type": "display_data"
    },
    {
     "data": {
      "image/png": "[encoded data removed]",
      "text/plain": [
       "<matplotlib.figure.Figure at 0x11fb0b748>"
      ]
     },
     "metadata": {},
     "output_type": "display_data"
    }
   ],
   "source": [
    "sdmod = copy.deepcopy(sdmod_tune)\n",
    "source_name = sdmod.names[i]\n",
    "fig = plt.figure()\n",
    "ax = plt.gca()\n",
    "ax.plot(sdmod.trueValues[source_name],  sdmod.models[source_name]['source'].value, '.')\n",
    "ax.plot(sdmod.trueValues[source_name],  -sdmod.trueValues[source_name], 'k-')\n",
    "ax.set_xlabel('True Solar')\n",
    "ax.set_ylabel('Disaggregated Solar')\n",
    "\n",
    "fig = plt.figure()\n",
    "ax = plt.gca()\n",
    "ax.plot(data.index,  -sdmod.models[source_name]['source'].value, '-', label = 'Disaggregated Solar')\n",
    "ax.plot(data.index,  data[source_name], '-', label = 'Actual Solar')\n",
    "start = dt.datetime(2015,1,3,0,0,0)\n",
    "start = pytz.timezone('America/Chicago').localize(start)\n",
    "ax.legend()\n",
    "ax.set_ylabel('Solar Generation')\n",
    "dur   = dt.timedelta(days = 2)\n",
    "plt.xticks(rotation = 90)\n",
    "\n",
    "ax.set_xlim(start, start + dur)"
   ]
  },
  {
   "cell_type": "code",
   "execution_count": 49,
   "metadata": {
    "collapsed": false
   },
   "outputs": [
    {
     "data": {
      "text/plain": [
       "{'solar_3918': 5.2234956869400424,\n",
       " 'solar_7627': 4.6076470187347116,\n",
       " 'solar_7863': 5.5706054502593521,\n",
       " 'solar_8645': 5.5585447120809066}"
      ]
     },
     "execution_count": 49,
     "metadata": {},
     "output_type": "execute_result"
    }
   ],
   "source": [
    "sdmod_tune.performanceMetrics()\n",
    "sdmod0.performanceMetrics()\n",
    "sdmod_tune.cv"
   ]
  },
  {
   "cell_type": "code",
   "execution_count": 50,
   "metadata": {
    "collapsed": false
   },
   "outputs": [
    {
     "data": {
      "text/plain": [
       "{'solar_3918': 5.7908407888739752,\n",
       " 'solar_7627': 4.7943122842311654,\n",
       " 'solar_7863': 5.2692533319700043,\n",
       " 'solar_8645': 5.5660852129754135}"
      ]
     },
     "execution_count": 50,
     "metadata": {},
     "output_type": "execute_result"
    }
   ],
   "source": [
    "sdmod0.cv"
   ]
  },
  {
   "cell_type": "code",
   "execution_count": 41,
   "metadata": {
    "collapsed": false
   },
   "outputs": [
    {
     "data": {
      "text/plain": [
       "[<matplotlib.lines.Line2D at 0x11ecd39e8>]"
      ]
     },
     "execution_count": 41,
     "metadata": {},
     "output_type": "execute_result"
    },
    {
     "data": {
      "image/png": "[encoded data removed]",
      "text/plain": [
       "<matplotlib.figure.Figure at 0x16db2b908>"
      ]
     },
     "metadata": {},
     "output_type": "display_data"
    }
   ],
   "source": [
    "model_est = sdmod_tune.models['solar_3918']['regressor'] * sdmod_tune.models['solar_3918']['theta']\n",
    "model_est = np.array(model_est.value).squeeze()\n",
    "plt.plot(model_est)"
   ]
  },
  {
   "cell_type": "code",
   "execution_count": 31,
   "metadata": {
    "collapsed": false
   },
   "outputs": [
    {
     "data": {
      "text/plain": [
       "array([  4.23372510e-03,   2.74482524e-03,   3.47932606e-03,\n",
       "         1.85049126e-03,   1.13110661e-03,   1.64906934e-03,\n",
       "         1.03852555e-03,   7.98870875e-04,   6.51203625e-04,\n",
       "         7.16681236e-04,   7.94131286e-04,   9.13239861e-04,\n",
       "         1.02851805e-03,   1.16814146e-03,   1.35240829e-03,\n",
       "         2.05936447e-03,   6.04395920e-03,   1.00000000e+00,\n",
       "         1.00000000e+00,   1.00000000e+00,   1.00000000e+00,\n",
       "         1.00000000e+00,   1.00000000e+00,   1.00000000e+00,\n",
       "         1.00000000e+00,   1.00000000e+00,   1.00000000e+00,\n",
       "         1.00000000e+00,   1.00000000e+00,   1.00000000e+00,\n",
       "         1.00000000e+00,   1.00000000e+00,   1.00000000e+00,\n",
       "         1.00000000e+00,   1.00000000e+00,   1.00000000e+00,\n",
       "         1.00000000e+00,   1.00000000e+00,   1.00000000e+00,\n",
       "         1.00000000e+00,   1.54697548e-02,   1.54876901e-03,\n",
       "         1.68049963e-03,   1.56616764e-03,   1.62479841e-03,\n",
       "         1.76148440e-03,   1.75725045e-03,   1.92442924e-03,\n",
       "         2.35308118e-03,   5.58626033e-04,   5.45267884e-04,\n",
       "         7.46300990e-04,   8.33618303e-04,   1.70615789e-03,\n",
       "         1.71151000e-03,   1.80366886e-03,   1.71708848e-03,\n",
       "         1.62844960e-03,   1.61807358e-03,   1.51939687e-03,\n",
       "         1.50305062e-03,   1.00000000e+00,   1.00000000e+00,\n",
       "         1.00000000e+00,   1.00000000e+00,   1.00000000e+00,\n",
       "         1.00000000e+00,   1.00000000e+00,   1.00000000e+00,\n",
       "         1.00000000e+00,   1.00000000e+00,   1.00000000e+00,\n",
       "         4.77926295e-03,   1.05655132e-03,   5.57602619e-04,\n",
       "         4.72498176e-04,   4.99496990e-04,   4.23395374e-04,\n",
       "         4.41189366e-04,   3.90827323e-04,   3.79740370e-04,\n",
       "         3.66856600e-04,   3.56857262e-04,   3.30273580e-04,\n",
       "         3.90746393e-04,   4.92105797e-04,   6.89423989e-04,\n",
       "         9.04184135e-04,   9.01950371e-04,   1.31965987e-03,\n",
       "         1.33837186e-03,   2.74692364e-03,   2.96328653e-03,\n",
       "         2.28279572e-03,   1.99945628e-03,   9.79861798e-03,\n",
       "         3.08998077e-03,   2.46121074e-03,   3.00566316e-03,\n",
       "         2.21773853e-03,   1.61075180e-03,   1.40591911e-03,\n",
       "         1.20424673e-03,   1.19811629e-03,   1.10309495e-03,\n",
       "         1.30851404e-03,   1.52498849e-03,   2.25769872e-03,\n",
       "         4.57507506e-03,   1.00000000e+00,   1.00000000e+00,\n",
       "         1.00000000e+00,   1.00000000e+00,   1.00000000e+00,\n",
       "         1.00000000e+00,   1.00000000e+00,   1.00000000e+00,\n",
       "         1.00000000e+00,   1.00000000e+00,   1.00000000e+00,\n",
       "         1.00000000e+00,   1.00000000e+00,   1.00000000e+00,\n",
       "         1.00000000e+00,   1.00000000e+00,   1.00000000e+00,\n",
       "         1.00000000e+00,   1.00000000e+00,   1.00000000e+00,\n",
       "         1.00000000e+00,   2.25750809e-02,   3.10816824e-03,\n",
       "         8.42992809e-04,   7.81147514e-04,   8.34997865e-04,\n",
       "         8.61233181e-04,   8.75439689e-04,   1.01380227e-03,\n",
       "         1.17948225e-03,   1.22870598e-03,   1.14891387e-03,\n",
       "         1.65365313e-03,   5.65927007e-03,   1.00000000e+00,\n",
       "         1.00000000e+00,   1.00000000e+00,   1.00000000e+00,\n",
       "         4.17959231e-03,   1.82557254e-03,   1.07592134e-03,\n",
       "         7.96071181e-04,   6.49487901e-04,   5.78918178e-04,\n",
       "         5.28893124e-04,   4.96741887e-04,   4.91595507e-04,\n",
       "         5.56896058e-04,   6.62567618e-04,   7.64700041e-04,\n",
       "         9.96754039e-04,   6.98349925e-04,   8.97179583e-04,\n",
       "         1.18815219e-03,   1.82198265e-03,   6.80446757e-04,\n",
       "         6.79806494e-04,   7.58402043e-04,   7.61317188e-04,\n",
       "         6.30656087e-04,   5.37113664e-04,   5.43616625e-04,\n",
       "         5.39877247e-04,   8.03913635e-04,   7.27121064e-04,\n",
       "         6.27553155e-04,   5.73627517e-04,   1.32468703e-03,\n",
       "         1.17018648e-03,   8.52532330e-04,   9.32600285e-04,\n",
       "         1.38852738e-03,   2.88729686e-03,   3.17843830e-03,\n",
       "         1.74555245e-03,   1.85737529e-03,   2.63743985e-03,\n",
       "         3.34748672e-03,   7.06659601e-03,   1.00000000e+00,\n",
       "         1.00000000e+00,   1.00000000e+00,   1.00000000e+00,\n",
       "         1.00000000e+00,   1.00000000e+00,   1.00000000e+00,\n",
       "         1.00000000e+00,   1.00000000e+00,   1.00000000e+00,\n",
       "         1.00000000e+00,   1.00000000e+00,   1.00000000e+00,\n",
       "         1.00000000e+00,   1.24493216e-02,   1.57763817e-02,\n",
       "         1.00000000e+00,   1.00000000e+00,   1.00000000e+00,\n",
       "         1.00000000e+00,   1.00000000e+00,   1.00000000e+00,\n",
       "         1.00000000e+00,   1.00000000e+00,   1.00000000e+00,\n",
       "         1.00000000e+00,   1.00000000e+00,   1.00000000e+00,\n",
       "         1.54808742e-02,   3.77018820e-03,   1.40481036e-03,\n",
       "         1.34794091e-03,   1.36360875e-03,   1.44022663e-03,\n",
       "         1.75988270e-03,   3.71651080e-03,   1.00000000e+00,\n",
       "         1.00000000e+00,   1.00000000e+00,   1.00000000e+00,\n",
       "         1.00000000e+00,   1.00000000e+00,   1.00000000e+00,\n",
       "         1.00000000e+00,   1.00000000e+00,   1.00000000e+00,\n",
       "         1.00000000e+00,   1.00000000e+00,   1.00000000e+00,\n",
       "         1.00000000e+00,   1.00000000e+00,   1.00000000e+00,\n",
       "         1.00000000e+00,   1.00000000e+00,   1.00000000e+00,\n",
       "         1.00000000e+00,   1.00000000e+00,   1.00000000e+00,\n",
       "         1.00000000e+00,   1.00000000e+00,   1.00000000e+00,\n",
       "         1.00000000e+00,   1.00000000e+00,   1.00000000e+00,\n",
       "         1.00000000e+00,   1.00000000e+00,   1.00000000e+00,\n",
       "         1.00000000e+00,   1.00000000e+00,   1.00000000e+00,\n",
       "         1.00000000e+00,   2.05723685e-03,   8.67214802e-04,\n",
       "         6.34303770e-04,   5.07566517e-04,   6.41140638e-04,\n",
       "         5.48698481e-04,   4.25245035e-04,   3.61051886e-04,\n",
       "         3.57538509e-04,   3.66076019e-04,   3.87235640e-04,\n",
       "         4.20988294e-04,   2.79592833e-04,   2.08944619e-04,\n",
       "         1.60104463e-04,   1.33212803e-04,   1.31343021e-04,\n",
       "         1.29009257e-04,   1.26917768e-04,   1.21853893e-04,\n",
       "         1.25463991e-04,   1.27445793e-04,   1.30373706e-04,\n",
       "         1.29189919e-04,   1.56770391e-04,   1.94178851e-04,\n",
       "         2.74336643e-04,   4.12945982e-04,   4.72783571e-04,\n",
       "         5.89822252e-04,   7.52840994e-04,   1.19034405e-03,\n",
       "         1.12065542e-03,   1.01497700e-03,   9.50761207e-04,\n",
       "         1.10943928e-03,   1.14204041e-03,   1.15466275e-03,\n",
       "         1.35178352e-03,   1.43630302e-03,   2.35171485e-03,\n",
       "         3.99688740e-03,   5.40196927e-02,   1.00000000e+00,\n",
       "         1.00000000e+00,   1.00000000e+00,   1.00000000e+00,\n",
       "         1.00000000e+00,   1.00000000e+00,   1.00000000e+00,\n",
       "         1.00000000e+00,   1.00000000e+00,   1.00000000e+00,\n",
       "         1.00000000e+00,   1.00000000e+00,   1.19529759e-02,\n",
       "         9.71207894e-04,   1.08126021e-03,   1.10281666e-03,\n",
       "         1.20521720e-03,   2.51610744e-03,   1.00000000e+00,\n",
       "         1.00000000e+00,   1.00000000e+00,   1.00000000e+00,\n",
       "         1.00000000e+00,   1.00000000e+00,   1.00000000e+00,\n",
       "         1.00000000e+00,   1.00000000e+00,   1.00000000e+00,\n",
       "         1.00000000e+00,   1.00000000e+00,   1.00000000e+00,\n",
       "         1.00000000e+00,   1.00000000e+00,   1.00000000e+00,\n",
       "         1.00000000e+00,   1.00000000e+00,   1.00000000e+00,\n",
       "         1.00000000e+00,   1.00000000e+00,   1.00000000e+00,\n",
       "         1.00000000e+00,   1.00000000e+00,   1.00000000e+00,\n",
       "         1.00000000e+00,   1.00000000e+00,   1.00000000e+00,\n",
       "         1.00000000e+00,   1.00000000e+00,   1.00000000e+00,\n",
       "         1.00000000e+00,   1.00000000e+00,   8.66975184e-04,\n",
       "         4.45982199e-04,   5.76079436e-04,   4.59749868e-04,\n",
       "         6.53189769e-04,   1.32945348e-03,   1.59928435e-03,\n",
       "         1.22116815e-02,   4.90608714e-04,   3.24000353e-04,\n",
       "         2.60788578e-04,   2.58516767e-04,   2.69171570e-04,\n",
       "         2.75832424e-04,   2.54990479e-04,   2.39726814e-04,\n",
       "         2.15560473e-04,   1.75901052e-04,   1.89184768e-04,\n",
       "         1.76728559e-04,   2.27063286e-04,   2.17703732e-04,\n",
       "         2.51710176e-04,   2.41883819e-04,   2.24719304e-04,\n",
       "         2.07838719e-04,   2.17992580e-04,   2.23310756e-04,\n",
       "         2.45640671e-04,   3.30927237e-04,   3.50120816e-04,\n",
       "         3.74669334e-04,   4.65185724e-04,   1.09049590e-03,\n",
       "         1.22150328e-03,   1.40186089e-03,   2.09911240e-03,\n",
       "         9.88083880e-03,   1.00000000e+00,   1.00000000e+00,\n",
       "         1.00000000e+00,   1.00000000e+00,   1.00000000e+00,\n",
       "         1.00000000e+00,   1.00000000e+00,   1.00000000e+00,\n",
       "         1.00000000e+00,   1.00000000e+00,   1.00000000e+00,\n",
       "         1.00000000e+00,   1.00000000e+00,   1.00000000e+00,\n",
       "         1.00000000e+00,   1.00000000e+00,   1.00000000e+00,\n",
       "         1.00000000e+00,   1.00000000e+00,   1.00000000e+00,\n",
       "         1.00000000e+00,   1.00000000e+00,   1.00000000e+00,\n",
       "         1.00000000e+00,   9.06289304e-03,   7.45002596e-03,\n",
       "         1.00000000e+00,   1.00000000e+00,   1.00000000e+00,\n",
       "         1.00000000e+00,   1.00000000e+00,   1.00000000e+00,\n",
       "         1.00000000e+00,   1.00000000e+00,   1.00000000e+00,\n",
       "         1.00000000e+00,   1.00000000e+00,   1.00000000e+00,\n",
       "         1.00000000e+00,   1.00000000e+00,   1.00000000e+00,\n",
       "         1.00000000e+00,   1.00000000e+00,   1.00000000e+00,\n",
       "         1.00000000e+00,   1.00000000e+00,   1.00000000e+00,\n",
       "         1.00000000e+00,   1.00000000e+00,   1.00000000e+00,\n",
       "         1.00000000e+00,   1.00000000e+00,   1.00000000e+00,\n",
       "         1.00000000e+00,   1.00000000e+00,   1.00000000e+00,\n",
       "         1.00000000e+00,   1.00000000e+00,   1.00000000e+00,\n",
       "         1.00000000e+00,   1.00000000e+00,   1.00000000e+00,\n",
       "         1.00000000e+00,   1.00000000e+00,   1.00000000e+00,\n",
       "         1.00000000e+00,   1.00000000e+00,   1.00000000e+00,\n",
       "         1.00000000e+00,   1.00000000e+00,   1.00000000e+00,\n",
       "         1.00000000e+00,   1.00000000e+00,   1.00000000e+00,\n",
       "         3.58455552e-03,   1.51966811e-03,   1.52006505e-03,\n",
       "         1.52244502e-03,   8.94736772e-04,   5.87369776e-04,\n",
       "         5.73782188e-04,   5.66883751e-04,   5.52751715e-04,\n",
       "         4.82452466e-04,   4.70072304e-04,   4.78163947e-04,\n",
       "         5.38915878e-04,   6.19183127e-04,   5.45523886e-04,\n",
       "         5.03843077e-04,   5.76592497e-04,   7.26254375e-04,\n",
       "         6.88461811e-04,   8.59218857e-04,   1.27040827e-03,\n",
       "         1.78226951e-03,   2.10886764e-03,   2.78715847e-03,\n",
       "         8.40793550e-03,   1.00000000e+00,   1.00000000e+00,\n",
       "         1.00000000e+00,   1.00000000e+00,   1.00000000e+00,\n",
       "         1.00000000e+00,   1.00000000e+00,   1.00000000e+00,\n",
       "         1.00000000e+00,   1.00000000e+00,   1.00000000e+00,\n",
       "         1.00000000e+00,   1.00000000e+00,   1.00000000e+00,\n",
       "         1.00000000e+00,   1.00000000e+00,   1.00000000e+00,\n",
       "         1.00000000e+00,   1.00000000e+00,   1.00000000e+00,\n",
       "         1.00000000e+00,   1.00000000e+00,   1.00000000e+00,\n",
       "         1.00000000e+00,   1.00000000e+00,   1.00000000e+00,\n",
       "         1.00000000e+00,   1.00000000e+00,   1.00000000e+00,\n",
       "         1.00000000e+00,   1.00000000e+00,   1.00000000e+00,\n",
       "         1.00000000e+00,   1.00000000e+00,   1.00000000e+00,\n",
       "         1.00000000e+00,   1.00000000e+00,   1.00000000e+00,\n",
       "         1.00000000e+00,   1.00000000e+00,   1.00000000e+00,\n",
       "         1.00000000e+00,   1.00000000e+00,   1.00000000e+00,\n",
       "         1.00000000e+00,   1.00000000e+00,   1.00000000e+00,\n",
       "         1.00000000e+00,   1.00000000e+00,   1.00000000e+00,\n",
       "         1.00000000e+00,   1.00000000e+00,   1.00000000e+00,\n",
       "         1.00000000e+00,   1.00000000e+00,   1.00000000e+00,\n",
       "         1.00000000e+00,   1.00000000e+00,   1.00000000e+00,\n",
       "         1.00000000e+00,   1.00000000e+00,   6.67396867e-03,\n",
       "         1.09363945e-03,   6.50803049e-04,   4.76487239e-04,\n",
       "         4.71172541e-04,   4.73284257e-04,   4.62473784e-04,\n",
       "         4.68538482e-04,   4.57069540e-04,   4.42448092e-04,\n",
       "         4.23237559e-04,   4.16472367e-04,   7.06925322e-04,\n",
       "         1.14065543e-03,   1.17449470e-03,   9.91665493e-04,\n",
       "         1.00368357e-03,   9.58389635e-04,   8.89994321e-04,\n",
       "         9.07560449e-04,   9.43640458e-04,   9.88250907e-04,\n",
       "         1.07612519e-03,   1.08319179e-03,   1.10538402e-03,\n",
       "         1.36101872e-03,   4.01928139e-03,   1.00000000e+00,\n",
       "         1.00000000e+00,   1.00000000e+00,   1.00000000e+00,\n",
       "         1.00000000e+00,   1.00000000e+00,   1.00000000e+00,\n",
       "         1.00000000e+00,   1.00000000e+00,   1.00000000e+00,\n",
       "         1.00000000e+00,   1.00000000e+00,   1.00000000e+00,\n",
       "         1.00000000e+00,   1.00000000e+00,   1.00000000e+00,\n",
       "         1.00000000e+00,   1.00000000e+00,   1.00000000e+00,\n",
       "         1.00000000e+00,   1.00000000e+00,   1.00000000e+00,\n",
       "         1.00000000e+00,   1.00000000e+00,   1.00000000e+00,\n",
       "         1.00000000e+00,   1.00000000e+00,   1.00000000e+00,\n",
       "         1.00000000e+00,   1.00000000e+00,   1.00000000e+00,\n",
       "         1.00000000e+00,   1.00000000e+00,   1.00000000e+00,\n",
       "         6.74842732e-03,   3.43912264e-01,   1.00000000e+00,\n",
       "         1.00000000e+00,   1.00000000e+00,   1.00000000e+00,\n",
       "         1.00000000e+00,   1.00000000e+00,   1.00000000e+00,\n",
       "         1.00000000e+00,   1.00000000e+00,   1.00000000e+00,\n",
       "         1.00000000e+00,   1.00000000e+00,   1.00000000e+00,\n",
       "         1.00000000e+00,   1.00000000e+00,   1.00000000e+00,\n",
       "         1.00000000e+00,   1.00000000e+00,   1.00000000e+00,\n",
       "         1.00000000e+00,   1.00000000e+00,   1.00000000e+00,\n",
       "         1.00000000e+00,   1.00000000e+00,   1.00000000e+00,\n",
       "         1.00000000e+00,   1.00000000e+00,   1.00000000e+00,\n",
       "         1.00000000e+00,   1.00000000e+00,   1.85360399e-02,\n",
       "         1.89292025e-03,   1.29817968e-03,   4.92839816e-04,\n",
       "         3.12237507e-04,   2.29121230e-04,   2.14446876e-04,\n",
       "         2.19253028e-04,   2.38124776e-04,   2.65955630e-04,\n",
       "         2.81114972e-04,   2.94582331e-04,   3.08445760e-04,\n",
       "         2.79058830e-04,   2.65622126e-04,   2.70558975e-04,\n",
       "         3.78174201e-04,   6.59229237e-04,   8.12145110e-04,\n",
       "         6.94359194e-04,   6.03879146e-04,   5.63899388e-04,\n",
       "         5.61710657e-04,   6.36484331e-04,   7.62213718e-04,\n",
       "         9.84709063e-04,   1.16274355e-03,   1.31860143e-02,\n",
       "         3.38165936e-03,   2.91697069e-03,   2.16098173e-03,\n",
       "         4.88267477e-03,   1.00000000e+00,   1.00000000e+00,\n",
       "         1.00000000e+00,   1.00000000e+00,   1.00000000e+00,\n",
       "         1.00000000e+00,   1.00000000e+00,   1.00000000e+00,\n",
       "         1.00000000e+00,   1.00000000e+00,   1.00000000e+00,\n",
       "         1.00000000e+00,   1.00000000e+00,   1.00000000e+00,\n",
       "         1.00000000e+00,   1.00000000e+00,   1.00000000e+00,\n",
       "         1.00000000e+00,   1.00000000e+00,   1.00000000e+00,\n",
       "         1.00000000e+00,   1.00000000e+00,   1.00000000e+00,\n",
       "         1.00000000e+00,   1.00000000e+00,   1.00000000e+00,\n",
       "         1.00000000e+00,   1.00000000e+00,   1.00000000e+00,\n",
       "         1.00000000e+00,   1.00000000e+00,   1.00000000e+00,\n",
       "         6.20020620e-03,   1.18804928e-03,   7.51327729e-04,\n",
       "         5.59065402e-04,   4.07956877e-04,   3.37017138e-04,\n",
       "         2.58051544e-04,   2.32352938e-04,   2.14647434e-04,\n",
       "         1.88248379e-04,   1.72683415e-04,   1.84566909e-04,\n",
       "         1.94905870e-04,   2.00455780e-04,   2.11442122e-04,\n",
       "         2.24817010e-04,   2.42464752e-04,   2.51419882e-04,\n",
       "         2.99186543e-04,   3.64575647e-04,   4.32916763e-04,\n",
       "         5.45840273e-04,   6.01416043e-04,   6.44047922e-04,\n",
       "         7.29024687e-04,   8.98408979e-04,   8.61131578e-04,\n",
       "         6.37945226e-04,   4.52133112e-04,   4.50830113e-04,\n",
       "         3.95912834e-04,   3.76178117e-04,   3.68601358e-04,\n",
       "         3.77120590e-04,   4.03153933e-04,   4.25765086e-04,\n",
       "         4.57334838e-04,   5.15364882e-04,   5.36143296e-04,\n",
       "         6.10834527e-04,   1.29512482e-03,   1.99385114e-03,\n",
       "         2.87508502e-03,   2.45215633e-03,   2.04452328e-03,\n",
       "         1.74453830e-03,   1.17755738e-03,   1.28662275e-03,\n",
       "         1.01880825e-03,   4.88071293e-04,   3.20830665e-04,\n",
       "         3.34564923e-04,   3.04491601e-04,   2.90538857e-04,\n",
       "         2.73200337e-04,   2.83690466e-04,   2.91324843e-04,\n",
       "         2.85755615e-04,   3.00203825e-04,   2.90039884e-04,\n",
       "         3.10859044e-04,   4.31082787e-04,   8.14502129e-04,\n",
       "         8.55916004e-04,   1.08951265e-03,   1.17847665e-03,\n",
       "         1.50765116e-03,   1.57915291e-03,   1.92932895e-03,\n",
       "         2.27657758e-03,   2.34483512e-03,   3.93265473e-03,\n",
       "         6.56550233e-03,   1.00000000e+00,   1.00000000e+00,\n",
       "         1.00000000e+00,   1.00000000e+00,   1.00000000e+00,\n",
       "         1.00000000e+00,   1.00000000e+00,   1.00000000e+00,\n",
       "         1.00000000e+00,   1.00000000e+00,   1.00000000e+00,\n",
       "         8.50943886e-03,   8.63846429e-03,   4.87216430e-03,\n",
       "         4.95247098e-03,   4.38771551e-03,   3.56086275e-03,\n",
       "         2.58760092e-03,   1.64125157e-03,   1.12901893e-03,\n",
       "         6.96156281e-04,   5.05367949e-04,   4.36455069e-04,\n",
       "         3.80780905e-04,   2.97327974e-04,   2.35780022e-04,\n",
       "         1.99120483e-04,   1.72651830e-04,   1.57111063e-04,\n",
       "         1.44644701e-04,   1.47805099e-04,   1.58156623e-04,\n",
       "         1.74540926e-04,   1.96164416e-04,   2.41597623e-04,\n",
       "         2.99247060e-04,   3.28516321e-04,   3.80366394e-04,\n",
       "         4.44109760e-04,   5.21455699e-04,   5.45073310e-04,\n",
       "         6.50694223e-04,   5.44873805e-04,   4.24639724e-04,\n",
       "         3.53078251e-04,   3.10936733e-04,   2.72391875e-04,\n",
       "         2.68911883e-04,   3.01567568e-04,   3.63243051e-04,\n",
       "         3.53457562e-04,   3.83288057e-04,   4.81454920e-04,\n",
       "         5.83198902e-04,   7.93683159e-04,   1.05199518e-03,\n",
       "         1.33620031e-03,   1.72274176e-03,   1.06033290e-03,\n",
       "         5.93165228e-04,   4.27792858e-04,   3.17625812e-04,\n",
       "         3.54805596e-04,   3.70843722e-04,   3.46038842e-04,\n",
       "         2.99099689e-04,   2.82747106e-04,   2.82296397e-04,\n",
       "         2.72909016e-04,   2.67196867e-04,   3.38021507e-04,\n",
       "         4.51631430e-04,   6.53500554e-04,   5.77482363e-04,\n",
       "         6.05594128e-04,   6.28095366e-04,   6.77217860e-04,\n",
       "         8.96646123e-04,   1.10008554e-03,   1.17386968e-03,\n",
       "         1.97411065e-03,   3.59192354e-03,   2.24361166e-03,\n",
       "         1.71578866e-03,   1.24122580e-03,   1.00000000e+00,\n",
       "         2.04408920e-02,   6.48445371e-03,   5.57734832e-03,\n",
       "         6.68992976e-03,   5.20417570e-03,   7.61415083e-03,\n",
       "         6.32621968e-03,   6.94549091e-03,   6.78235504e-02,\n",
       "         1.00000000e+00,   1.00000000e+00,   1.00000000e+00,\n",
       "         1.00000000e+00,   1.00000000e+00,   1.00000000e+00,\n",
       "         1.00000000e+00,   1.00000000e+00,   1.00000000e+00,\n",
       "         1.00000000e+00,   1.00000000e+00,   1.00000000e+00,\n",
       "         1.00000000e+00,   1.00000000e+00,   1.00000000e+00,\n",
       "         1.00000000e+00,   1.00000000e+00,   1.00000000e+00,\n",
       "         1.00000000e+00,   1.00000000e+00,   1.00000000e+00,\n",
       "         1.00000000e+00,   1.00000000e+00,   6.34577752e-04,\n",
       "         6.02469029e-04,   6.86456557e-04,   7.46508800e-04,\n",
       "         7.27386076e-04,   7.31421709e-04,   4.54248780e-04,\n",
       "         3.97099311e-04,   3.04555540e-04,   2.60304227e-04,\n",
       "         2.59014921e-04,   2.64381038e-04,   5.88194333e-04,\n",
       "         6.13263842e-04,   5.25285390e-04,   4.56010019e-04,\n",
       "         4.02148274e-04,   3.70342943e-04,   5.20950732e-04,\n",
       "         5.81310201e-04,   9.19047683e-04,   1.55887324e-03,\n",
       "         1.35629283e-03,   1.25426026e-03,   1.32970608e-03,\n",
       "         1.53970653e-03,   1.80994627e-03,   3.01902818e-03,\n",
       "         5.11235061e-03,   9.82297737e-02,   1.00000000e+00,\n",
       "         1.00000000e+00,   1.00000000e+00,   1.15508232e-02,\n",
       "         4.82459835e-03,   4.24255822e-03,   1.84520836e-03,\n",
       "         1.16352360e-03,   1.26639459e-03,   9.59384391e-04,\n",
       "         1.10148782e-03,   8.46806355e-04,   6.09220198e-04,\n",
       "         4.68000237e-04,   2.48704888e-04,   1.73498397e-04,\n",
       "         1.68703453e-04,   1.63769927e-04,   1.74122639e-04,\n",
       "         1.83878990e-04,   1.85079939e-04,   1.69582051e-04,\n",
       "         1.70382986e-04,   1.78178044e-04,   1.92229368e-04,\n",
       "         2.05389425e-04,   3.52252745e-04,   1.18269526e-03,\n",
       "         2.15851736e-03,   3.27150091e-03,   2.55003181e-03,\n",
       "         2.10146862e-03,   1.75369384e-03,   1.00000000e+00,\n",
       "         1.00000000e+00,   1.00000000e+00,   5.40673092e-02,\n",
       "         1.00000000e+00,   1.00000000e+00,   1.00000000e+00,\n",
       "         1.00000000e+00,   1.00000000e+00,   1.00000000e+00,\n",
       "         1.00000000e+00,   1.00000000e+00,   1.00000000e+00,\n",
       "         1.00000000e+00,   1.00000000e+00,   1.00000000e+00,\n",
       "         1.00000000e+00,   1.00000000e+00,   1.00000000e+00,\n",
       "         1.00000000e+00,   1.00000000e+00,   1.00000000e+00,\n",
       "         1.00000000e+00,   1.00000000e+00,   1.00000000e+00,\n",
       "         1.00000000e+00,   1.00000000e+00,   1.00000000e+00,\n",
       "         1.00000000e+00,   1.00000000e+00,   1.00000000e+00,\n",
       "         1.00000000e+00,   1.00000000e+00,   1.00000000e+00,\n",
       "         1.00000000e+00,   1.00000000e+00,   1.00000000e+00,\n",
       "         9.32763056e-03])"
      ]
     },
     "execution_count": 31,
     "metadata": {},
     "output_type": "execute_result"
    }
   ],
   "source": [
    "sdmod_tune.models['AggregateLoad']['alpha']"
   ]
  },
  {
   "cell_type": "code",
   "execution_count": 42,
   "metadata": {
    "collapsed": false
   },
   "outputs": [
    {
     "data": {
      "text/plain": [
       "[<matplotlib.lines.Line2D at 0x1040db4a8>]"
      ]
     },
     "execution_count": 42,
     "metadata": {},
     "output_type": "execute_result"
    },
    {
     "data": {
      "image/png": "[encoded data removed]",
      "text/plain": [
       "<matplotlib.figure.Figure at 0x11fa1d4a8>"
      ]
     },
     "metadata": {},
     "output_type": "display_data"
    }
   ],
   "source": [
    "plt.plot(sdmod.models['solar_3918']['alpha'])"
   ]
  },
  {
   "cell_type": "code",
   "execution_count": 34,
   "metadata": {
    "collapsed": false
   },
   "outputs": [
    {
     "data": {
      "text/plain": [
       "1.4056632"
      ]
     },
     "execution_count": 34,
     "metadata": {},
     "output_type": "execute_result"
    }
   ],
   "source": [
    "np.mean(np.abs(sdmod_tune.netloads['solar_3918']))"
   ]
  }
 ],
 "metadata": {
  "kernelspec": {
   "display_name": "Python 3",
   "language": "python",
   "name": "python3"
  },
  "language_info": {
   "codemirror_mode": {
    "name": "ipython",
    "version": 3
   },
   "file_extension": ".py",
   "mimetype": "text/x-python",
   "name": "python",
   "nbconvert_exporter": "python",
   "pygments_lexer": "ipython3",
   "version": "3.5.0"
  }
 },
 "nbformat": 4,
 "nbformat_minor": 0
}
