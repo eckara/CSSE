{
 "cells": [
  {
   "cell_type": "code",
   "execution_count": 1,
   "metadata": {
    "collapsed": true,
    "deletable": true,
    "editable": true
   },
   "outputs": [],
   "source": [
    "import cvxpy\n",
    "import pandas as pd\n",
    "import seaborn as sns\n",
    "import matplotlib.pyplot as plt\n",
    "%matplotlib inline\n",
    "from cvxpy import *\n"
   ]
  },
  {
   "cell_type": "code",
   "execution_count": null,
   "metadata": {
    "collapsed": true,
    "deletable": true,
    "editable": true
   },
   "outputs": [],
   "source": [
    "class CSSE:\n",
    "### Contextually Supervised Source Seperation Class\n",
    "\n",
    "    def __init__(self, aggregateSignal):\n",
    "        self.aggregateSignal = aggregateSignal\n",
    "        self.regressors=[]\n",
    "        self.models=[]\n",
    "        self.ObjectiveFunction=0\n",
    "\n",
    "    def addSource(self, regressor, alphas, costFunction='L2',\n",
    "                  regularizeTheta='L2',contextualRegularize='Smooth'):\n",
    "        ### This is a method to add a new source\n",
    "        \n",
    "        self.regressors.append()\n",
    "        return source\n",
    "    \n",
    "    def addConstraint(self,):\n",
    "        ### This is a method to add a new source\n",
    "        return \n",
    "    \n",
    "    def constructSolve(self):\n",
    "        return\n"
   ]
  }
 ],
 "metadata": {
  "kernelspec": {
   "display_name": "csse",
   "language": "python",
   "name": "csse"
  },
  "language_info": {
   "codemirror_mode": {
    "name": "ipython",
    "version": 2
   },
   "file_extension": ".py",
   "mimetype": "text/x-python",
   "name": "python",
   "nbconvert_exporter": "python",
   "pygments_lexer": "ipython2",
   "version": "2.7.14"
  }
 },
 "nbformat": 4,
 "nbformat_minor": 2
}
